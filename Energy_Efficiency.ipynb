{
  "nbformat": 4,
  "nbformat_minor": 0,
  "metadata": {
    "colab": {
      "name": "Energy_Efficiency.ipynb",
      "provenance": [],
      "collapsed_sections": [],
      "authorship_tag": "ABX9TyMfO9FtalG0igLqgrq6A0Dy",
      "include_colab_link": true
    },
    "kernelspec": {
      "name": "python3",
      "display_name": "Python 3"
    },
    "language_info": {
      "name": "python"
    },
    "accelerator": "GPU"
  },
  "cells": [
    {
      "cell_type": "markdown",
      "metadata": {
        "id": "view-in-github",
        "colab_type": "text"
      },
      "source": [
        "<a href=\"https://colab.research.google.com/github/ElsiSahayaRenita/Energy-Efficiency-Industrial-Automation-/blob/main/Energy_Efficiency.ipynb\" target=\"_parent\"><img src=\"https://colab.research.google.com/assets/colab-badge.svg\" alt=\"Open In Colab\"/></a>"
      ]
    },
    {
      "cell_type": "markdown",
      "source": [
        "# **Import Libraries**"
      ],
      "metadata": {
        "id": "VBPDUA_B_LEV"
      }
    },
    {
      "cell_type": "code",
      "execution_count": 31,
      "metadata": {
        "id": "6pyr-EZ0JkiL"
      },
      "outputs": [],
      "source": [
        "import pandas as pd\n",
        "import numpy as np\n",
        "import seaborn as sns \n",
        "import matplotlib.pyplot as plt\n",
        "from mpl_toolkits import mplot3d\n",
        "\n",
        "from sklearn.model_selection import train_test_split\n",
        "from sklearn import metrics\n",
        "from sklearn.feature_selection import RFE\n",
        "from sklearn.linear_model import LinearRegression\n",
        "from sklearn.ensemble import RandomForestRegressor\n",
        "from sklearn.tree import DecisionTreeRegressor\n",
        "from sklearn.neighbors import KNeighborsRegressor\n",
        "from sklearn.linear_model import Ridge\n",
        "from sklearn.linear_model import Lasso\n",
        "\n",
        "from sklearn.model_selection import cross_val_score\n",
        "from sklearn.metrics import mean_squared_error"
      ]
    },
    {
      "cell_type": "code",
      "source": [
        "data = pd.read_csv('/content/ENB2012.csv')"
      ],
      "metadata": {
        "id": "uNYHLpoQkj2G"
      },
      "execution_count": 32,
      "outputs": []
    },
    {
      "cell_type": "code",
      "source": [
        "data.head()"
      ],
      "metadata": {
        "colab": {
          "base_uri": "https://localhost:8080/",
          "height": 206
        },
        "id": "2Ll4SgtLk8Ti",
        "outputId": "23d7b7c6-22e5-49e9-8943-d9988bd50920"
      },
      "execution_count": 33,
      "outputs": [
        {
          "output_type": "execute_result",
          "data": {
            "text/plain": [
              "     X1     X2     X3      X4   X5  X6   X7  X8     Y1     Y2\n",
              "0  0.98  514.5  294.0  110.25  7.0   2  0.0   0  15.55  21.33\n",
              "1  0.98  514.5  294.0  110.25  7.0   3  0.0   0  15.55  21.33\n",
              "2  0.98  514.5  294.0  110.25  7.0   4  0.0   0  15.55  21.33\n",
              "3  0.98  514.5  294.0  110.25  7.0   5  0.0   0  15.55  21.33\n",
              "4  0.90  563.5  318.5  122.50  7.0   2  0.0   0  20.84  28.28"
            ],
            "text/html": [
              "\n",
              "  <div id=\"df-3e1f6bf0-92a9-4abb-9c95-fbd1d9f4156d\">\n",
              "    <div class=\"colab-df-container\">\n",
              "      <div>\n",
              "<style scoped>\n",
              "    .dataframe tbody tr th:only-of-type {\n",
              "        vertical-align: middle;\n",
              "    }\n",
              "\n",
              "    .dataframe tbody tr th {\n",
              "        vertical-align: top;\n",
              "    }\n",
              "\n",
              "    .dataframe thead th {\n",
              "        text-align: right;\n",
              "    }\n",
              "</style>\n",
              "<table border=\"1\" class=\"dataframe\">\n",
              "  <thead>\n",
              "    <tr style=\"text-align: right;\">\n",
              "      <th></th>\n",
              "      <th>X1</th>\n",
              "      <th>X2</th>\n",
              "      <th>X3</th>\n",
              "      <th>X4</th>\n",
              "      <th>X5</th>\n",
              "      <th>X6</th>\n",
              "      <th>X7</th>\n",
              "      <th>X8</th>\n",
              "      <th>Y1</th>\n",
              "      <th>Y2</th>\n",
              "    </tr>\n",
              "  </thead>\n",
              "  <tbody>\n",
              "    <tr>\n",
              "      <th>0</th>\n",
              "      <td>0.98</td>\n",
              "      <td>514.5</td>\n",
              "      <td>294.0</td>\n",
              "      <td>110.25</td>\n",
              "      <td>7.0</td>\n",
              "      <td>2</td>\n",
              "      <td>0.0</td>\n",
              "      <td>0</td>\n",
              "      <td>15.55</td>\n",
              "      <td>21.33</td>\n",
              "    </tr>\n",
              "    <tr>\n",
              "      <th>1</th>\n",
              "      <td>0.98</td>\n",
              "      <td>514.5</td>\n",
              "      <td>294.0</td>\n",
              "      <td>110.25</td>\n",
              "      <td>7.0</td>\n",
              "      <td>3</td>\n",
              "      <td>0.0</td>\n",
              "      <td>0</td>\n",
              "      <td>15.55</td>\n",
              "      <td>21.33</td>\n",
              "    </tr>\n",
              "    <tr>\n",
              "      <th>2</th>\n",
              "      <td>0.98</td>\n",
              "      <td>514.5</td>\n",
              "      <td>294.0</td>\n",
              "      <td>110.25</td>\n",
              "      <td>7.0</td>\n",
              "      <td>4</td>\n",
              "      <td>0.0</td>\n",
              "      <td>0</td>\n",
              "      <td>15.55</td>\n",
              "      <td>21.33</td>\n",
              "    </tr>\n",
              "    <tr>\n",
              "      <th>3</th>\n",
              "      <td>0.98</td>\n",
              "      <td>514.5</td>\n",
              "      <td>294.0</td>\n",
              "      <td>110.25</td>\n",
              "      <td>7.0</td>\n",
              "      <td>5</td>\n",
              "      <td>0.0</td>\n",
              "      <td>0</td>\n",
              "      <td>15.55</td>\n",
              "      <td>21.33</td>\n",
              "    </tr>\n",
              "    <tr>\n",
              "      <th>4</th>\n",
              "      <td>0.90</td>\n",
              "      <td>563.5</td>\n",
              "      <td>318.5</td>\n",
              "      <td>122.50</td>\n",
              "      <td>7.0</td>\n",
              "      <td>2</td>\n",
              "      <td>0.0</td>\n",
              "      <td>0</td>\n",
              "      <td>20.84</td>\n",
              "      <td>28.28</td>\n",
              "    </tr>\n",
              "  </tbody>\n",
              "</table>\n",
              "</div>\n",
              "      <button class=\"colab-df-convert\" onclick=\"convertToInteractive('df-3e1f6bf0-92a9-4abb-9c95-fbd1d9f4156d')\"\n",
              "              title=\"Convert this dataframe to an interactive table.\"\n",
              "              style=\"display:none;\">\n",
              "        \n",
              "  <svg xmlns=\"http://www.w3.org/2000/svg\" height=\"24px\"viewBox=\"0 0 24 24\"\n",
              "       width=\"24px\">\n",
              "    <path d=\"M0 0h24v24H0V0z\" fill=\"none\"/>\n",
              "    <path d=\"M18.56 5.44l.94 2.06.94-2.06 2.06-.94-2.06-.94-.94-2.06-.94 2.06-2.06.94zm-11 1L8.5 8.5l.94-2.06 2.06-.94-2.06-.94L8.5 2.5l-.94 2.06-2.06.94zm10 10l.94 2.06.94-2.06 2.06-.94-2.06-.94-.94-2.06-.94 2.06-2.06.94z\"/><path d=\"M17.41 7.96l-1.37-1.37c-.4-.4-.92-.59-1.43-.59-.52 0-1.04.2-1.43.59L10.3 9.45l-7.72 7.72c-.78.78-.78 2.05 0 2.83L4 21.41c.39.39.9.59 1.41.59.51 0 1.02-.2 1.41-.59l7.78-7.78 2.81-2.81c.8-.78.8-2.07 0-2.86zM5.41 20L4 18.59l7.72-7.72 1.47 1.35L5.41 20z\"/>\n",
              "  </svg>\n",
              "      </button>\n",
              "      \n",
              "  <style>\n",
              "    .colab-df-container {\n",
              "      display:flex;\n",
              "      flex-wrap:wrap;\n",
              "      gap: 12px;\n",
              "    }\n",
              "\n",
              "    .colab-df-convert {\n",
              "      background-color: #E8F0FE;\n",
              "      border: none;\n",
              "      border-radius: 50%;\n",
              "      cursor: pointer;\n",
              "      display: none;\n",
              "      fill: #1967D2;\n",
              "      height: 32px;\n",
              "      padding: 0 0 0 0;\n",
              "      width: 32px;\n",
              "    }\n",
              "\n",
              "    .colab-df-convert:hover {\n",
              "      background-color: #E2EBFA;\n",
              "      box-shadow: 0px 1px 2px rgba(60, 64, 67, 0.3), 0px 1px 3px 1px rgba(60, 64, 67, 0.15);\n",
              "      fill: #174EA6;\n",
              "    }\n",
              "\n",
              "    [theme=dark] .colab-df-convert {\n",
              "      background-color: #3B4455;\n",
              "      fill: #D2E3FC;\n",
              "    }\n",
              "\n",
              "    [theme=dark] .colab-df-convert:hover {\n",
              "      background-color: #434B5C;\n",
              "      box-shadow: 0px 1px 3px 1px rgba(0, 0, 0, 0.15);\n",
              "      filter: drop-shadow(0px 1px 2px rgba(0, 0, 0, 0.3));\n",
              "      fill: #FFFFFF;\n",
              "    }\n",
              "  </style>\n",
              "\n",
              "      <script>\n",
              "        const buttonEl =\n",
              "          document.querySelector('#df-3e1f6bf0-92a9-4abb-9c95-fbd1d9f4156d button.colab-df-convert');\n",
              "        buttonEl.style.display =\n",
              "          google.colab.kernel.accessAllowed ? 'block' : 'none';\n",
              "\n",
              "        async function convertToInteractive(key) {\n",
              "          const element = document.querySelector('#df-3e1f6bf0-92a9-4abb-9c95-fbd1d9f4156d');\n",
              "          const dataTable =\n",
              "            await google.colab.kernel.invokeFunction('convertToInteractive',\n",
              "                                                     [key], {});\n",
              "          if (!dataTable) return;\n",
              "\n",
              "          const docLinkHtml = 'Like what you see? Visit the ' +\n",
              "            '<a target=\"_blank\" href=https://colab.research.google.com/notebooks/data_table.ipynb>data table notebook</a>'\n",
              "            + ' to learn more about interactive tables.';\n",
              "          element.innerHTML = '';\n",
              "          dataTable['output_type'] = 'display_data';\n",
              "          await google.colab.output.renderOutput(dataTable, element);\n",
              "          const docLink = document.createElement('div');\n",
              "          docLink.innerHTML = docLinkHtml;\n",
              "          element.appendChild(docLink);\n",
              "        }\n",
              "      </script>\n",
              "    </div>\n",
              "  </div>\n",
              "  "
            ]
          },
          "metadata": {},
          "execution_count": 33
        }
      ]
    },
    {
      "cell_type": "code",
      "source": [
        "#Finding sum of null values\n",
        "data.isnull().sum()"
      ],
      "metadata": {
        "colab": {
          "base_uri": "https://localhost:8080/"
        },
        "id": "6GFQ7TIvlEbv",
        "outputId": "b2d8de36-6799-401f-dbeb-f89a5d74b994"
      },
      "execution_count": 34,
      "outputs": [
        {
          "output_type": "execute_result",
          "data": {
            "text/plain": [
              "X1    0\n",
              "X2    0\n",
              "X3    0\n",
              "X4    0\n",
              "X5    0\n",
              "X6    0\n",
              "X7    0\n",
              "X8    0\n",
              "Y1    0\n",
              "Y2    0\n",
              "dtype: int64"
            ]
          },
          "metadata": {},
          "execution_count": 34
        }
      ]
    },
    {
      "cell_type": "markdown",
      "source": [
        "### There is no null value in the given data"
      ],
      "metadata": {
        "id": "pLq4RoA29HcR"
      }
    },
    {
      "cell_type": "markdown",
      "source": [
        "### Renaming the Attribute to make effective in analysis"
      ],
      "metadata": {
        "id": "mM7rpQlF9Ss4"
      }
    },
    {
      "cell_type": "code",
      "source": [
        "df=data.rename(columns={\"X1\": \"Relative_Compactness\", \"X2\": \"Surface_Area\",\"X3\": \"Wall_Area\",\"X4\": \"Roof_Area\",\"X5\": \"Overall_Height\",\"X6\": \"Orientation\",\"X7\": \"Glazing_Area\",\"X8\": \"Glazing_Area_Distribution\",\"Y1\": \"Heating_Load\",\"Y2\":\"Cooling_Load\"})\n",
        "df.head() "
      ],
      "metadata": {
        "colab": {
          "base_uri": "https://localhost:8080/",
          "height": 270
        },
        "id": "piylUX69lYGS",
        "outputId": "098416a8-bdf4-4dbc-b118-7e247f79eca4"
      },
      "execution_count": 35,
      "outputs": [
        {
          "output_type": "execute_result",
          "data": {
            "text/plain": [
              "   Relative_Compactness  Surface_Area  Wall_Area  Roof_Area  Overall_Height  \\\n",
              "0                  0.98         514.5      294.0     110.25             7.0   \n",
              "1                  0.98         514.5      294.0     110.25             7.0   \n",
              "2                  0.98         514.5      294.0     110.25             7.0   \n",
              "3                  0.98         514.5      294.0     110.25             7.0   \n",
              "4                  0.90         563.5      318.5     122.50             7.0   \n",
              "\n",
              "   Orientation  Glazing_Area  Glazing_Area_Distribution  Heating_Load  \\\n",
              "0            2           0.0                          0         15.55   \n",
              "1            3           0.0                          0         15.55   \n",
              "2            4           0.0                          0         15.55   \n",
              "3            5           0.0                          0         15.55   \n",
              "4            2           0.0                          0         20.84   \n",
              "\n",
              "   Cooling_Load  \n",
              "0         21.33  \n",
              "1         21.33  \n",
              "2         21.33  \n",
              "3         21.33  \n",
              "4         28.28  "
            ],
            "text/html": [
              "\n",
              "  <div id=\"df-d8a624ce-8b3c-4db3-ba74-0564b690de6e\">\n",
              "    <div class=\"colab-df-container\">\n",
              "      <div>\n",
              "<style scoped>\n",
              "    .dataframe tbody tr th:only-of-type {\n",
              "        vertical-align: middle;\n",
              "    }\n",
              "\n",
              "    .dataframe tbody tr th {\n",
              "        vertical-align: top;\n",
              "    }\n",
              "\n",
              "    .dataframe thead th {\n",
              "        text-align: right;\n",
              "    }\n",
              "</style>\n",
              "<table border=\"1\" class=\"dataframe\">\n",
              "  <thead>\n",
              "    <tr style=\"text-align: right;\">\n",
              "      <th></th>\n",
              "      <th>Relative_Compactness</th>\n",
              "      <th>Surface_Area</th>\n",
              "      <th>Wall_Area</th>\n",
              "      <th>Roof_Area</th>\n",
              "      <th>Overall_Height</th>\n",
              "      <th>Orientation</th>\n",
              "      <th>Glazing_Area</th>\n",
              "      <th>Glazing_Area_Distribution</th>\n",
              "      <th>Heating_Load</th>\n",
              "      <th>Cooling_Load</th>\n",
              "    </tr>\n",
              "  </thead>\n",
              "  <tbody>\n",
              "    <tr>\n",
              "      <th>0</th>\n",
              "      <td>0.98</td>\n",
              "      <td>514.5</td>\n",
              "      <td>294.0</td>\n",
              "      <td>110.25</td>\n",
              "      <td>7.0</td>\n",
              "      <td>2</td>\n",
              "      <td>0.0</td>\n",
              "      <td>0</td>\n",
              "      <td>15.55</td>\n",
              "      <td>21.33</td>\n",
              "    </tr>\n",
              "    <tr>\n",
              "      <th>1</th>\n",
              "      <td>0.98</td>\n",
              "      <td>514.5</td>\n",
              "      <td>294.0</td>\n",
              "      <td>110.25</td>\n",
              "      <td>7.0</td>\n",
              "      <td>3</td>\n",
              "      <td>0.0</td>\n",
              "      <td>0</td>\n",
              "      <td>15.55</td>\n",
              "      <td>21.33</td>\n",
              "    </tr>\n",
              "    <tr>\n",
              "      <th>2</th>\n",
              "      <td>0.98</td>\n",
              "      <td>514.5</td>\n",
              "      <td>294.0</td>\n",
              "      <td>110.25</td>\n",
              "      <td>7.0</td>\n",
              "      <td>4</td>\n",
              "      <td>0.0</td>\n",
              "      <td>0</td>\n",
              "      <td>15.55</td>\n",
              "      <td>21.33</td>\n",
              "    </tr>\n",
              "    <tr>\n",
              "      <th>3</th>\n",
              "      <td>0.98</td>\n",
              "      <td>514.5</td>\n",
              "      <td>294.0</td>\n",
              "      <td>110.25</td>\n",
              "      <td>7.0</td>\n",
              "      <td>5</td>\n",
              "      <td>0.0</td>\n",
              "      <td>0</td>\n",
              "      <td>15.55</td>\n",
              "      <td>21.33</td>\n",
              "    </tr>\n",
              "    <tr>\n",
              "      <th>4</th>\n",
              "      <td>0.90</td>\n",
              "      <td>563.5</td>\n",
              "      <td>318.5</td>\n",
              "      <td>122.50</td>\n",
              "      <td>7.0</td>\n",
              "      <td>2</td>\n",
              "      <td>0.0</td>\n",
              "      <td>0</td>\n",
              "      <td>20.84</td>\n",
              "      <td>28.28</td>\n",
              "    </tr>\n",
              "  </tbody>\n",
              "</table>\n",
              "</div>\n",
              "      <button class=\"colab-df-convert\" onclick=\"convertToInteractive('df-d8a624ce-8b3c-4db3-ba74-0564b690de6e')\"\n",
              "              title=\"Convert this dataframe to an interactive table.\"\n",
              "              style=\"display:none;\">\n",
              "        \n",
              "  <svg xmlns=\"http://www.w3.org/2000/svg\" height=\"24px\"viewBox=\"0 0 24 24\"\n",
              "       width=\"24px\">\n",
              "    <path d=\"M0 0h24v24H0V0z\" fill=\"none\"/>\n",
              "    <path d=\"M18.56 5.44l.94 2.06.94-2.06 2.06-.94-2.06-.94-.94-2.06-.94 2.06-2.06.94zm-11 1L8.5 8.5l.94-2.06 2.06-.94-2.06-.94L8.5 2.5l-.94 2.06-2.06.94zm10 10l.94 2.06.94-2.06 2.06-.94-2.06-.94-.94-2.06-.94 2.06-2.06.94z\"/><path d=\"M17.41 7.96l-1.37-1.37c-.4-.4-.92-.59-1.43-.59-.52 0-1.04.2-1.43.59L10.3 9.45l-7.72 7.72c-.78.78-.78 2.05 0 2.83L4 21.41c.39.39.9.59 1.41.59.51 0 1.02-.2 1.41-.59l7.78-7.78 2.81-2.81c.8-.78.8-2.07 0-2.86zM5.41 20L4 18.59l7.72-7.72 1.47 1.35L5.41 20z\"/>\n",
              "  </svg>\n",
              "      </button>\n",
              "      \n",
              "  <style>\n",
              "    .colab-df-container {\n",
              "      display:flex;\n",
              "      flex-wrap:wrap;\n",
              "      gap: 12px;\n",
              "    }\n",
              "\n",
              "    .colab-df-convert {\n",
              "      background-color: #E8F0FE;\n",
              "      border: none;\n",
              "      border-radius: 50%;\n",
              "      cursor: pointer;\n",
              "      display: none;\n",
              "      fill: #1967D2;\n",
              "      height: 32px;\n",
              "      padding: 0 0 0 0;\n",
              "      width: 32px;\n",
              "    }\n",
              "\n",
              "    .colab-df-convert:hover {\n",
              "      background-color: #E2EBFA;\n",
              "      box-shadow: 0px 1px 2px rgba(60, 64, 67, 0.3), 0px 1px 3px 1px rgba(60, 64, 67, 0.15);\n",
              "      fill: #174EA6;\n",
              "    }\n",
              "\n",
              "    [theme=dark] .colab-df-convert {\n",
              "      background-color: #3B4455;\n",
              "      fill: #D2E3FC;\n",
              "    }\n",
              "\n",
              "    [theme=dark] .colab-df-convert:hover {\n",
              "      background-color: #434B5C;\n",
              "      box-shadow: 0px 1px 3px 1px rgba(0, 0, 0, 0.15);\n",
              "      filter: drop-shadow(0px 1px 2px rgba(0, 0, 0, 0.3));\n",
              "      fill: #FFFFFF;\n",
              "    }\n",
              "  </style>\n",
              "\n",
              "      <script>\n",
              "        const buttonEl =\n",
              "          document.querySelector('#df-d8a624ce-8b3c-4db3-ba74-0564b690de6e button.colab-df-convert');\n",
              "        buttonEl.style.display =\n",
              "          google.colab.kernel.accessAllowed ? 'block' : 'none';\n",
              "\n",
              "        async function convertToInteractive(key) {\n",
              "          const element = document.querySelector('#df-d8a624ce-8b3c-4db3-ba74-0564b690de6e');\n",
              "          const dataTable =\n",
              "            await google.colab.kernel.invokeFunction('convertToInteractive',\n",
              "                                                     [key], {});\n",
              "          if (!dataTable) return;\n",
              "\n",
              "          const docLinkHtml = 'Like what you see? Visit the ' +\n",
              "            '<a target=\"_blank\" href=https://colab.research.google.com/notebooks/data_table.ipynb>data table notebook</a>'\n",
              "            + ' to learn more about interactive tables.';\n",
              "          element.innerHTML = '';\n",
              "          dataTable['output_type'] = 'display_data';\n",
              "          await google.colab.output.renderOutput(dataTable, element);\n",
              "          const docLink = document.createElement('div');\n",
              "          docLink.innerHTML = docLinkHtml;\n",
              "          element.appendChild(docLink);\n",
              "        }\n",
              "      </script>\n",
              "    </div>\n",
              "  </div>\n",
              "  "
            ]
          },
          "metadata": {},
          "execution_count": 35
        }
      ]
    },
    {
      "cell_type": "code",
      "source": [
        "df.info()"
      ],
      "metadata": {
        "colab": {
          "base_uri": "https://localhost:8080/"
        },
        "id": "DR4oh93GAfFB",
        "outputId": "c836c375-f2f6-4a8e-babe-7061202f284f"
      },
      "execution_count": 36,
      "outputs": [
        {
          "output_type": "stream",
          "name": "stdout",
          "text": [
            "<class 'pandas.core.frame.DataFrame'>\n",
            "RangeIndex: 768 entries, 0 to 767\n",
            "Data columns (total 10 columns):\n",
            " #   Column                     Non-Null Count  Dtype  \n",
            "---  ------                     --------------  -----  \n",
            " 0   Relative_Compactness       768 non-null    float64\n",
            " 1   Surface_Area               768 non-null    float64\n",
            " 2   Wall_Area                  768 non-null    float64\n",
            " 3   Roof_Area                  768 non-null    float64\n",
            " 4   Overall_Height             768 non-null    float64\n",
            " 5   Orientation                768 non-null    int64  \n",
            " 6   Glazing_Area               768 non-null    float64\n",
            " 7   Glazing_Area_Distribution  768 non-null    int64  \n",
            " 8   Heating_Load               768 non-null    float64\n",
            " 9   Cooling_Load               768 non-null    float64\n",
            "dtypes: float64(8), int64(2)\n",
            "memory usage: 60.1 KB\n"
          ]
        }
      ]
    },
    {
      "cell_type": "markdown",
      "source": [
        "# **Exploratory Data Analysis - EDA**"
      ],
      "metadata": {
        "id": "-rchCMGb_Uam"
      }
    },
    {
      "cell_type": "code",
      "source": [
        "df.columns"
      ],
      "metadata": {
        "id": "rtH8RFb98hkq",
        "colab": {
          "base_uri": "https://localhost:8080/"
        },
        "outputId": "f55062c6-0eb2-4d53-abdd-2478b4960579"
      },
      "execution_count": 37,
      "outputs": [
        {
          "output_type": "execute_result",
          "data": {
            "text/plain": [
              "Index(['Relative_Compactness', 'Surface_Area', 'Wall_Area', 'Roof_Area',\n",
              "       'Overall_Height', 'Orientation', 'Glazing_Area',\n",
              "       'Glazing_Area_Distribution', 'Heating_Load', 'Cooling_Load'],\n",
              "      dtype='object')"
            ]
          },
          "metadata": {},
          "execution_count": 37
        }
      ]
    },
    {
      "cell_type": "code",
      "source": [
        "df.describe()"
      ],
      "metadata": {
        "colab": {
          "base_uri": "https://localhost:8080/",
          "height": 364
        },
        "id": "_zjreO6iBUs4",
        "outputId": "107cb7a5-53d9-46dc-9dcd-a4f764f9d58c"
      },
      "execution_count": 38,
      "outputs": [
        {
          "output_type": "execute_result",
          "data": {
            "text/plain": [
              "       Relative_Compactness  Surface_Area   Wall_Area   Roof_Area  \\\n",
              "count            768.000000    768.000000  768.000000  768.000000   \n",
              "mean               0.764167    671.708333  318.500000  176.604167   \n",
              "std                0.105777     88.086116   43.626481   45.165950   \n",
              "min                0.620000    514.500000  245.000000  110.250000   \n",
              "25%                0.682500    606.375000  294.000000  140.875000   \n",
              "50%                0.750000    673.750000  318.500000  183.750000   \n",
              "75%                0.830000    741.125000  343.000000  220.500000   \n",
              "max                0.980000    808.500000  416.500000  220.500000   \n",
              "\n",
              "       Overall_Height  Orientation  Glazing_Area  Glazing_Area_Distribution  \\\n",
              "count       768.00000   768.000000    768.000000                  768.00000   \n",
              "mean          5.25000     3.500000      0.234375                    2.81250   \n",
              "std           1.75114     1.118763      0.133221                    1.55096   \n",
              "min           3.50000     2.000000      0.000000                    0.00000   \n",
              "25%           3.50000     2.750000      0.100000                    1.75000   \n",
              "50%           5.25000     3.500000      0.250000                    3.00000   \n",
              "75%           7.00000     4.250000      0.400000                    4.00000   \n",
              "max           7.00000     5.000000      0.400000                    5.00000   \n",
              "\n",
              "       Heating_Load  Cooling_Load  \n",
              "count    768.000000    768.000000  \n",
              "mean      22.307201     24.587760  \n",
              "std       10.090196      9.513306  \n",
              "min        6.010000     10.900000  \n",
              "25%       12.992500     15.620000  \n",
              "50%       18.950000     22.080000  \n",
              "75%       31.667500     33.132500  \n",
              "max       43.100000     48.030000  "
            ],
            "text/html": [
              "\n",
              "  <div id=\"df-bee96ace-a1b2-4c6d-9296-9de2b0b1443e\">\n",
              "    <div class=\"colab-df-container\">\n",
              "      <div>\n",
              "<style scoped>\n",
              "    .dataframe tbody tr th:only-of-type {\n",
              "        vertical-align: middle;\n",
              "    }\n",
              "\n",
              "    .dataframe tbody tr th {\n",
              "        vertical-align: top;\n",
              "    }\n",
              "\n",
              "    .dataframe thead th {\n",
              "        text-align: right;\n",
              "    }\n",
              "</style>\n",
              "<table border=\"1\" class=\"dataframe\">\n",
              "  <thead>\n",
              "    <tr style=\"text-align: right;\">\n",
              "      <th></th>\n",
              "      <th>Relative_Compactness</th>\n",
              "      <th>Surface_Area</th>\n",
              "      <th>Wall_Area</th>\n",
              "      <th>Roof_Area</th>\n",
              "      <th>Overall_Height</th>\n",
              "      <th>Orientation</th>\n",
              "      <th>Glazing_Area</th>\n",
              "      <th>Glazing_Area_Distribution</th>\n",
              "      <th>Heating_Load</th>\n",
              "      <th>Cooling_Load</th>\n",
              "    </tr>\n",
              "  </thead>\n",
              "  <tbody>\n",
              "    <tr>\n",
              "      <th>count</th>\n",
              "      <td>768.000000</td>\n",
              "      <td>768.000000</td>\n",
              "      <td>768.000000</td>\n",
              "      <td>768.000000</td>\n",
              "      <td>768.00000</td>\n",
              "      <td>768.000000</td>\n",
              "      <td>768.000000</td>\n",
              "      <td>768.00000</td>\n",
              "      <td>768.000000</td>\n",
              "      <td>768.000000</td>\n",
              "    </tr>\n",
              "    <tr>\n",
              "      <th>mean</th>\n",
              "      <td>0.764167</td>\n",
              "      <td>671.708333</td>\n",
              "      <td>318.500000</td>\n",
              "      <td>176.604167</td>\n",
              "      <td>5.25000</td>\n",
              "      <td>3.500000</td>\n",
              "      <td>0.234375</td>\n",
              "      <td>2.81250</td>\n",
              "      <td>22.307201</td>\n",
              "      <td>24.587760</td>\n",
              "    </tr>\n",
              "    <tr>\n",
              "      <th>std</th>\n",
              "      <td>0.105777</td>\n",
              "      <td>88.086116</td>\n",
              "      <td>43.626481</td>\n",
              "      <td>45.165950</td>\n",
              "      <td>1.75114</td>\n",
              "      <td>1.118763</td>\n",
              "      <td>0.133221</td>\n",
              "      <td>1.55096</td>\n",
              "      <td>10.090196</td>\n",
              "      <td>9.513306</td>\n",
              "    </tr>\n",
              "    <tr>\n",
              "      <th>min</th>\n",
              "      <td>0.620000</td>\n",
              "      <td>514.500000</td>\n",
              "      <td>245.000000</td>\n",
              "      <td>110.250000</td>\n",
              "      <td>3.50000</td>\n",
              "      <td>2.000000</td>\n",
              "      <td>0.000000</td>\n",
              "      <td>0.00000</td>\n",
              "      <td>6.010000</td>\n",
              "      <td>10.900000</td>\n",
              "    </tr>\n",
              "    <tr>\n",
              "      <th>25%</th>\n",
              "      <td>0.682500</td>\n",
              "      <td>606.375000</td>\n",
              "      <td>294.000000</td>\n",
              "      <td>140.875000</td>\n",
              "      <td>3.50000</td>\n",
              "      <td>2.750000</td>\n",
              "      <td>0.100000</td>\n",
              "      <td>1.75000</td>\n",
              "      <td>12.992500</td>\n",
              "      <td>15.620000</td>\n",
              "    </tr>\n",
              "    <tr>\n",
              "      <th>50%</th>\n",
              "      <td>0.750000</td>\n",
              "      <td>673.750000</td>\n",
              "      <td>318.500000</td>\n",
              "      <td>183.750000</td>\n",
              "      <td>5.25000</td>\n",
              "      <td>3.500000</td>\n",
              "      <td>0.250000</td>\n",
              "      <td>3.00000</td>\n",
              "      <td>18.950000</td>\n",
              "      <td>22.080000</td>\n",
              "    </tr>\n",
              "    <tr>\n",
              "      <th>75%</th>\n",
              "      <td>0.830000</td>\n",
              "      <td>741.125000</td>\n",
              "      <td>343.000000</td>\n",
              "      <td>220.500000</td>\n",
              "      <td>7.00000</td>\n",
              "      <td>4.250000</td>\n",
              "      <td>0.400000</td>\n",
              "      <td>4.00000</td>\n",
              "      <td>31.667500</td>\n",
              "      <td>33.132500</td>\n",
              "    </tr>\n",
              "    <tr>\n",
              "      <th>max</th>\n",
              "      <td>0.980000</td>\n",
              "      <td>808.500000</td>\n",
              "      <td>416.500000</td>\n",
              "      <td>220.500000</td>\n",
              "      <td>7.00000</td>\n",
              "      <td>5.000000</td>\n",
              "      <td>0.400000</td>\n",
              "      <td>5.00000</td>\n",
              "      <td>43.100000</td>\n",
              "      <td>48.030000</td>\n",
              "    </tr>\n",
              "  </tbody>\n",
              "</table>\n",
              "</div>\n",
              "      <button class=\"colab-df-convert\" onclick=\"convertToInteractive('df-bee96ace-a1b2-4c6d-9296-9de2b0b1443e')\"\n",
              "              title=\"Convert this dataframe to an interactive table.\"\n",
              "              style=\"display:none;\">\n",
              "        \n",
              "  <svg xmlns=\"http://www.w3.org/2000/svg\" height=\"24px\"viewBox=\"0 0 24 24\"\n",
              "       width=\"24px\">\n",
              "    <path d=\"M0 0h24v24H0V0z\" fill=\"none\"/>\n",
              "    <path d=\"M18.56 5.44l.94 2.06.94-2.06 2.06-.94-2.06-.94-.94-2.06-.94 2.06-2.06.94zm-11 1L8.5 8.5l.94-2.06 2.06-.94-2.06-.94L8.5 2.5l-.94 2.06-2.06.94zm10 10l.94 2.06.94-2.06 2.06-.94-2.06-.94-.94-2.06-.94 2.06-2.06.94z\"/><path d=\"M17.41 7.96l-1.37-1.37c-.4-.4-.92-.59-1.43-.59-.52 0-1.04.2-1.43.59L10.3 9.45l-7.72 7.72c-.78.78-.78 2.05 0 2.83L4 21.41c.39.39.9.59 1.41.59.51 0 1.02-.2 1.41-.59l7.78-7.78 2.81-2.81c.8-.78.8-2.07 0-2.86zM5.41 20L4 18.59l7.72-7.72 1.47 1.35L5.41 20z\"/>\n",
              "  </svg>\n",
              "      </button>\n",
              "      \n",
              "  <style>\n",
              "    .colab-df-container {\n",
              "      display:flex;\n",
              "      flex-wrap:wrap;\n",
              "      gap: 12px;\n",
              "    }\n",
              "\n",
              "    .colab-df-convert {\n",
              "      background-color: #E8F0FE;\n",
              "      border: none;\n",
              "      border-radius: 50%;\n",
              "      cursor: pointer;\n",
              "      display: none;\n",
              "      fill: #1967D2;\n",
              "      height: 32px;\n",
              "      padding: 0 0 0 0;\n",
              "      width: 32px;\n",
              "    }\n",
              "\n",
              "    .colab-df-convert:hover {\n",
              "      background-color: #E2EBFA;\n",
              "      box-shadow: 0px 1px 2px rgba(60, 64, 67, 0.3), 0px 1px 3px 1px rgba(60, 64, 67, 0.15);\n",
              "      fill: #174EA6;\n",
              "    }\n",
              "\n",
              "    [theme=dark] .colab-df-convert {\n",
              "      background-color: #3B4455;\n",
              "      fill: #D2E3FC;\n",
              "    }\n",
              "\n",
              "    [theme=dark] .colab-df-convert:hover {\n",
              "      background-color: #434B5C;\n",
              "      box-shadow: 0px 1px 3px 1px rgba(0, 0, 0, 0.15);\n",
              "      filter: drop-shadow(0px 1px 2px rgba(0, 0, 0, 0.3));\n",
              "      fill: #FFFFFF;\n",
              "    }\n",
              "  </style>\n",
              "\n",
              "      <script>\n",
              "        const buttonEl =\n",
              "          document.querySelector('#df-bee96ace-a1b2-4c6d-9296-9de2b0b1443e button.colab-df-convert');\n",
              "        buttonEl.style.display =\n",
              "          google.colab.kernel.accessAllowed ? 'block' : 'none';\n",
              "\n",
              "        async function convertToInteractive(key) {\n",
              "          const element = document.querySelector('#df-bee96ace-a1b2-4c6d-9296-9de2b0b1443e');\n",
              "          const dataTable =\n",
              "            await google.colab.kernel.invokeFunction('convertToInteractive',\n",
              "                                                     [key], {});\n",
              "          if (!dataTable) return;\n",
              "\n",
              "          const docLinkHtml = 'Like what you see? Visit the ' +\n",
              "            '<a target=\"_blank\" href=https://colab.research.google.com/notebooks/data_table.ipynb>data table notebook</a>'\n",
              "            + ' to learn more about interactive tables.';\n",
              "          element.innerHTML = '';\n",
              "          dataTable['output_type'] = 'display_data';\n",
              "          await google.colab.output.renderOutput(dataTable, element);\n",
              "          const docLink = document.createElement('div');\n",
              "          docLink.innerHTML = docLinkHtml;\n",
              "          element.appendChild(docLink);\n",
              "        }\n",
              "      </script>\n",
              "    </div>\n",
              "  </div>\n",
              "  "
            ]
          },
          "metadata": {},
          "execution_count": 38
        }
      ]
    },
    {
      "cell_type": "code",
      "source": [
        "plt.figure(figsize = (20, 15))\n",
        "\n",
        "ax = plt.subplot(224)\n",
        "plt.boxplot(df.Relative_Compactness)\n",
        "ax.set_title('Relative compactness')"
      ],
      "metadata": {
        "colab": {
          "base_uri": "https://localhost:8080/",
          "height": 452
        },
        "id": "Ixddtdx3WBpE",
        "outputId": "985b2e6a-cd97-4d77-f462-703bf97cc62f"
      },
      "execution_count": 39,
      "outputs": [
        {
          "output_type": "execute_result",
          "data": {
            "text/plain": [
              "Text(0.5, 1.0, 'Relative compactness')"
            ]
          },
          "metadata": {},
          "execution_count": 39
        },
        {
          "output_type": "display_data",
          "data": {
            "text/plain": [
              "<Figure size 1440x1080 with 1 Axes>"
            ],
            "image/png": "[encoded data removed]"
          },
          "metadata": {
            "needs_background": "light"
          }
        }
      ]
    },
    {
      "cell_type": "code",
      "source": [
        "sns.distplot(df['Relative_Compactness'], hist=True, kde=True, \n",
        "              color = 'darkblue', \n",
        "             hist_kws={'edgecolor':'black'},\n",
        "             kde_kws={'linewidth': 4});"
      ],
      "metadata": {
        "colab": {
          "base_uri": "https://localhost:8080/",
          "height": 335
        },
        "id": "_BwJWqiYgTZp",
        "outputId": "f195738f-cbfe-4172-f3dd-cb893388eac0"
      },
      "execution_count": 40,
      "outputs": [
        {
          "output_type": "stream",
          "name": "stderr",
          "text": [
            "/usr/local/lib/python3.7/dist-packages/seaborn/distributions.py:2619: FutureWarning: `distplot` is a deprecated function and will be removed in a future version. Please adapt your code to use either `displot` (a figure-level function with similar flexibility) or `histplot` (an axes-level function for histograms).\n",
            "  warnings.warn(msg, FutureWarning)\n"
          ]
        },
        {
          "output_type": "display_data",
          "data": {
            "text/plain": [
              "<Figure size 432x288 with 1 Axes>"
            ],
            "image/png": "[encoded data removed]"
          },
          "metadata": {
            "needs_background": "light"
          }
        }
      ]
    },
    {
      "cell_type": "markdown",
      "source": [
        "### **Inference:**\n",
        "    1. Compactness is defined as the amount of solid substance filled in the material.\n",
        "    2. Average Relative Compactness in the given data is 0.75.\n",
        "    3. Distribution is Positively Skewed, also high when Relative Compactness is less than 0.8.\n"
      ],
      "metadata": {
        "id": "0LaTUWKxY_Qk"
      }
    },
    {
      "cell_type": "code",
      "source": [
        "plt.figure(figsize = (20, 15))\n",
        "\n",
        "ax = plt.subplot(223)\n",
        "plt.boxplot(df.Surface_Area)\n",
        "ax.set_title('Surface Area')"
      ],
      "metadata": {
        "colab": {
          "base_uri": "https://localhost:8080/",
          "height": 452
        },
        "id": "Euu9Vo-XYOUx",
        "outputId": "dd24214e-f030-4cde-9b46-6cd0d9cc88c6"
      },
      "execution_count": 41,
      "outputs": [
        {
          "output_type": "execute_result",
          "data": {
            "text/plain": [
              "Text(0.5, 1.0, 'Surface Area')"
            ]
          },
          "metadata": {},
          "execution_count": 41
        },
        {
          "output_type": "display_data",
          "data": {
            "text/plain": [
              "<Figure size 1440x1080 with 1 Axes>"
            ],
            "image/png": "[encoded data removed]"
          },
          "metadata": {
            "needs_background": "light"
          }
        }
      ]
    },
    {
      "cell_type": "code",
      "source": [
        "sns.distplot(df['Surface_Area'], hist=True, kde=True, \n",
        "              color = 'darkgreen', \n",
        "             hist_kws={'edgecolor':'black'},\n",
        "             kde_kws={'linewidth': 4})"
      ],
      "metadata": {
        "colab": {
          "base_uri": "https://localhost:8080/",
          "height": 352
        },
        "id": "7F49YVl1kB6c",
        "outputId": "479351f1-bb3a-47f1-beee-4f0a2ec8fc4f"
      },
      "execution_count": 42,
      "outputs": [
        {
          "output_type": "stream",
          "name": "stderr",
          "text": [
            "/usr/local/lib/python3.7/dist-packages/seaborn/distributions.py:2619: FutureWarning: `distplot` is a deprecated function and will be removed in a future version. Please adapt your code to use either `displot` (a figure-level function with similar flexibility) or `histplot` (an axes-level function for histograms).\n",
            "  warnings.warn(msg, FutureWarning)\n"
          ]
        },
        {
          "output_type": "execute_result",
          "data": {
            "text/plain": [
              "<matplotlib.axes._subplots.AxesSubplot at 0x7fbb8a0f6ad0>"
            ]
          },
          "metadata": {},
          "execution_count": 42
        },
        {
          "output_type": "display_data",
          "data": {
            "text/plain": [
              "<Figure size 432x288 with 1 Axes>"
            ],
            "image/png": "[encoded data removed]"
          },
          "metadata": {
            "needs_background": "light"
          }
        }
      ]
    },
    {
      "cell_type": "markdown",
      "source": [
        "### **Inference:**\n",
        "    1. Surface Area is used in covering building exteriors and in designing interiors\n",
        "    2. Average Surface Area of buidings in the given data is about 675 SquareFeet.\n",
        "    3. Distribution is Negatively Skewed and stays neutral when Surface Area is between 600 to 800 SquareFeet."
      ],
      "metadata": {
        "id": "KM81tGw9jfPH"
      }
    },
    {
      "cell_type": "code",
      "source": [
        "plt.figure(figsize = (20, 15))\n",
        "\n",
        "ax = plt.subplot(221)\n",
        "plt.boxplot(df.Wall_Area)\n",
        "ax.set_title('Wall Area')"
      ],
      "metadata": {
        "id": "tOVWhcuVjEf5",
        "colab": {
          "base_uri": "https://localhost:8080/",
          "height": 452
        },
        "outputId": "dbf3e967-61c6-49ff-f048-54c2d8d82e09"
      },
      "execution_count": 43,
      "outputs": [
        {
          "output_type": "execute_result",
          "data": {
            "text/plain": [
              "Text(0.5, 1.0, 'Wall Area')"
            ]
          },
          "metadata": {},
          "execution_count": 43
        },
        {
          "output_type": "display_data",
          "data": {
            "text/plain": [
              "<Figure size 1440x1080 with 1 Axes>"
            ],
            "image/png": "[encoded data removed]"
          },
          "metadata": {
            "needs_background": "light"
          }
        }
      ]
    },
    {
      "cell_type": "code",
      "source": [
        "sns.distplot(df['Wall_Area'], hist=True, kde=True, \n",
        "              color = 'black', \n",
        "             hist_kws={'edgecolor':'white'},\n",
        "             kde_kws={'linewidth': 4})"
      ],
      "metadata": {
        "colab": {
          "base_uri": "https://localhost:8080/",
          "height": 352
        },
        "id": "89H1itgrpiDr",
        "outputId": "14e20f4d-e4d9-42c5-fc0f-ad427afaccba"
      },
      "execution_count": 44,
      "outputs": [
        {
          "output_type": "stream",
          "name": "stderr",
          "text": [
            "/usr/local/lib/python3.7/dist-packages/seaborn/distributions.py:2619: FutureWarning: `distplot` is a deprecated function and will be removed in a future version. Please adapt your code to use either `displot` (a figure-level function with similar flexibility) or `histplot` (an axes-level function for histograms).\n",
            "  warnings.warn(msg, FutureWarning)\n"
          ]
        },
        {
          "output_type": "execute_result",
          "data": {
            "text/plain": [
              "<matplotlib.axes._subplots.AxesSubplot at 0x7fbb8a041910>"
            ]
          },
          "metadata": {},
          "execution_count": 44
        },
        {
          "output_type": "display_data",
          "data": {
            "text/plain": [
              "<Figure size 432x288 with 1 Axes>"
            ],
            "image/png": "[encoded data removed]"
          },
          "metadata": {
            "needs_background": "light"
          }
        }
      ]
    },
    {
      "cell_type": "markdown",
      "source": [
        "\n",
        "### **Inference:**\n",
        "    1. Wall Area is generally refers to the area occupied by floor in respective with any floor level.\n",
        "    2. Average Wall Area in the given data is around 320 SquareFeet.\n",
        "    3. Distribution is Skewed Right i.e Positively Skewed."
      ],
      "metadata": {
        "id": "OuPjkcizqY5u"
      }
    },
    {
      "cell_type": "code",
      "source": [
        "plt.figure(figsize = (20, 15))\n",
        "\n",
        "ax = plt.subplot(232)\n",
        "plt.boxplot(df.Roof_Area)\n",
        "ax.set_title('Roof Area')"
      ],
      "metadata": {
        "colab": {
          "base_uri": "https://localhost:8080/",
          "height": 452
        },
        "id": "lJvuZRtTr7K6",
        "outputId": "1e5f222d-7d56-41c7-873c-1e3a55e92322"
      },
      "execution_count": 45,
      "outputs": [
        {
          "output_type": "execute_result",
          "data": {
            "text/plain": [
              "Text(0.5, 1.0, 'Roof Area')"
            ]
          },
          "metadata": {},
          "execution_count": 45
        },
        {
          "output_type": "display_data",
          "data": {
            "text/plain": [
              "<Figure size 1440x1080 with 1 Axes>"
            ],
            "image/png": "[encoded data removed]"
          },
          "metadata": {
            "needs_background": "light"
          }
        }
      ]
    },
    {
      "cell_type": "code",
      "source": [
        "sns.distplot(df['Roof_Area'], hist=True, kde=True, \n",
        "              color = 'darkred', \n",
        "             hist_kws={'edgecolor':'black'},\n",
        "             kde_kws={'linewidth': 4})"
      ],
      "metadata": {
        "colab": {
          "base_uri": "https://localhost:8080/",
          "height": 352
        },
        "id": "XqiyP1DuqP1P",
        "outputId": "c473071e-4fc8-479f-b1d3-138b9b6a192d"
      },
      "execution_count": 46,
      "outputs": [
        {
          "output_type": "stream",
          "name": "stderr",
          "text": [
            "/usr/local/lib/python3.7/dist-packages/seaborn/distributions.py:2619: FutureWarning: `distplot` is a deprecated function and will be removed in a future version. Please adapt your code to use either `displot` (a figure-level function with similar flexibility) or `histplot` (an axes-level function for histograms).\n",
            "  warnings.warn(msg, FutureWarning)\n"
          ]
        },
        {
          "output_type": "execute_result",
          "data": {
            "text/plain": [
              "<matplotlib.axes._subplots.AxesSubplot at 0x7fbb89f3f150>"
            ]
          },
          "metadata": {},
          "execution_count": 46
        },
        {
          "output_type": "display_data",
          "data": {
            "text/plain": [
              "<Figure size 432x288 with 1 Axes>"
            ],
            "image/png": "[encoded data removed]"
          },
          "metadata": {
            "needs_background": "light"
          }
        }
      ]
    },
    {
      "cell_type": "markdown",
      "source": [
        "### **Inference:**\n",
        "     1. Roof Area is the area of upper most portion of the building which protects the building from rain, wind and sun.\n",
        "     2. Asymmetrical Distribution where the upper quartile or third quartile Q3 were equal to maximun thus upper whisker is absent.\n",
        "     3. Roof Area will be 220 SquareFeet."
      ],
      "metadata": {
        "id": "4-4B7KyR9a1i"
      }
    },
    {
      "cell_type": "code",
      "source": [
        "plt.figure(figsize = (20, 15))\n",
        "\n",
        "ax = plt.subplot(241)\n",
        "plt.boxplot(df.Overall_Height)\n",
        "ax.set_title('Overall Height')"
      ],
      "metadata": {
        "colab": {
          "base_uri": "https://localhost:8080/",
          "height": 452
        },
        "id": "1ZCGZdU2r0l3",
        "outputId": "c35cfb62-97b3-4d24-db43-9f89cb6d9874"
      },
      "execution_count": 47,
      "outputs": [
        {
          "output_type": "execute_result",
          "data": {
            "text/plain": [
              "Text(0.5, 1.0, 'Overall Height')"
            ]
          },
          "metadata": {},
          "execution_count": 47
        },
        {
          "output_type": "display_data",
          "data": {
            "text/plain": [
              "<Figure size 1440x1080 with 1 Axes>"
            ],
            "image/png": "[encoded data removed]"
          },
          "metadata": {
            "needs_background": "light"
          }
        }
      ]
    },
    {
      "cell_type": "code",
      "source": [
        "sns.distplot(df['Overall_Height'], hist=True, kde=True, \n",
        "              color = 'darkorange', \n",
        "             hist_kws={'edgecolor':'black'},\n",
        "             kde_kws={'linewidth': 4})"
      ],
      "metadata": {
        "colab": {
          "base_uri": "https://localhost:8080/",
          "height": 352
        },
        "id": "gjdnNJIuAb-P",
        "outputId": "2e79ffad-ae55-40a9-dec1-e662da4fda36"
      },
      "execution_count": 48,
      "outputs": [
        {
          "output_type": "stream",
          "name": "stderr",
          "text": [
            "/usr/local/lib/python3.7/dist-packages/seaborn/distributions.py:2619: FutureWarning: `distplot` is a deprecated function and will be removed in a future version. Please adapt your code to use either `displot` (a figure-level function with similar flexibility) or `histplot` (an axes-level function for histograms).\n",
            "  warnings.warn(msg, FutureWarning)\n"
          ]
        },
        {
          "output_type": "execute_result",
          "data": {
            "text/plain": [
              "<matplotlib.axes._subplots.AxesSubplot at 0x7fbb8aa959d0>"
            ]
          },
          "metadata": {},
          "execution_count": 48
        },
        {
          "output_type": "display_data",
          "data": {
            "text/plain": [
              "<Figure size 432x288 with 1 Axes>"
            ],
            "image/png": "[encoded data removed]"
          },
          "metadata": {
            "needs_background": "light"
          }
        }
      ]
    },
    {
      "cell_type": "markdown",
      "source": [
        "### **Inference:**\n",
        "    1. Overall Height is the total height of the buiding from the ground level generally will be in the units Feet.\n",
        "    2. Distribution is Symmetrical, while the lower quartile or first quartile Q1 is equal to the minimum and the upper quartile or third quartile Q3 is equal to the maximum thus both whiskers were absent.\n",
        "    3. Thus the minimum overall height of the building is 3.5Feet and the maximum overall height of the building is 7Feet."
      ],
      "metadata": {
        "id": "Kqx7r2J_B0GJ"
      }
    },
    {
      "cell_type": "code",
      "source": [
        "plt.figure(figsize = (20, 15))\n",
        "\n",
        "ax = plt.subplot(242)\n",
        "plt.boxplot(df.Orientation)\n",
        "ax.set_title('Orientation')"
      ],
      "metadata": {
        "colab": {
          "base_uri": "https://localhost:8080/",
          "height": 452
        },
        "id": "uJ3YJQlZDbY6",
        "outputId": "a32f8a95-772c-4c01-c397-ad696845aa81"
      },
      "execution_count": 49,
      "outputs": [
        {
          "output_type": "execute_result",
          "data": {
            "text/plain": [
              "Text(0.5, 1.0, 'Orientation')"
            ]
          },
          "metadata": {},
          "execution_count": 49
        },
        {
          "output_type": "display_data",
          "data": {
            "text/plain": [
              "<Figure size 1440x1080 with 1 Axes>"
            ],
            "image/png": "[encoded data removed]"
          },
          "metadata": {
            "needs_background": "light"
          }
        }
      ]
    },
    {
      "cell_type": "code",
      "source": [
        "sns.distplot(df['Orientation'], hist=True, kde=True, \n",
        "              color = 'darkgrey', \n",
        "             hist_kws={'edgecolor':'black'},\n",
        "             kde_kws={'linewidth': 4})"
      ],
      "metadata": {
        "colab": {
          "base_uri": "https://localhost:8080/",
          "height": 351
        },
        "id": "V9lBenscBdmQ",
        "outputId": "a4ba4af7-f2dc-4d94-feca-e7ab51d2a19d"
      },
      "execution_count": 50,
      "outputs": [
        {
          "output_type": "stream",
          "name": "stderr",
          "text": [
            "/usr/local/lib/python3.7/dist-packages/seaborn/distributions.py:2619: FutureWarning: `distplot` is a deprecated function and will be removed in a future version. Please adapt your code to use either `displot` (a figure-level function with similar flexibility) or `histplot` (an axes-level function for histograms).\n",
            "  warnings.warn(msg, FutureWarning)\n"
          ]
        },
        {
          "output_type": "execute_result",
          "data": {
            "text/plain": [
              "<matplotlib.axes._subplots.AxesSubplot at 0x7fbb8aa62250>"
            ]
          },
          "metadata": {},
          "execution_count": 50
        },
        {
          "output_type": "display_data",
          "data": {
            "text/plain": [
              "<Figure size 432x288 with 1 Axes>"
            ],
            "image/png": "[encoded data removed]"
          },
          "metadata": {
            "needs_background": "light"
          }
        }
      ]
    },
    {
      "cell_type": "markdown",
      "source": [
        "### **Inference:**\n",
        "    1. Orientation is the way of building positioned with respect to its surroundings irrespective to the axis.\n",
        "    2. Distribution is Symmetrical.\n",
        "    3. Median Orientation number is 3.5.\n",
        "    \n"
      ],
      "metadata": {
        "id": "j0nGMQAMDyK_"
      }
    },
    {
      "cell_type": "code",
      "source": [
        "plt.figure(figsize = (20, 15))\n",
        "\n",
        "ax = plt.subplot(243)\n",
        "plt.boxplot(df.Glazing_Area)\n",
        "ax.set_title('Glazing Area')"
      ],
      "metadata": {
        "colab": {
          "base_uri": "https://localhost:8080/",
          "height": 452
        },
        "id": "_qZrQuK3DYBv",
        "outputId": "92d8a916-36be-4a48-9f91-d8f944a7ca3d"
      },
      "execution_count": 51,
      "outputs": [
        {
          "output_type": "execute_result",
          "data": {
            "text/plain": [
              "Text(0.5, 1.0, 'Glazing Area')"
            ]
          },
          "metadata": {},
          "execution_count": 51
        },
        {
          "output_type": "display_data",
          "data": {
            "text/plain": [
              "<Figure size 1440x1080 with 1 Axes>"
            ],
            "image/png": "[encoded data removed]"
          },
          "metadata": {
            "needs_background": "light"
          }
        }
      ]
    },
    {
      "cell_type": "code",
      "source": [
        "\n",
        "sns.distplot(df['Glazing_Area'], hist=True, kde=True, \n",
        "              color = 'blue', \n",
        "             hist_kws={'edgecolor':'black'},\n",
        "             kde_kws={'linewidth': 4})"
      ],
      "metadata": {
        "colab": {
          "base_uri": "https://localhost:8080/",
          "height": 352
        },
        "id": "7PFfA0fxFTK7",
        "outputId": "4c9d7707-895f-4395-bed4-c7ade01e0498"
      },
      "execution_count": 52,
      "outputs": [
        {
          "output_type": "stream",
          "name": "stderr",
          "text": [
            "/usr/local/lib/python3.7/dist-packages/seaborn/distributions.py:2619: FutureWarning: `distplot` is a deprecated function and will be removed in a future version. Please adapt your code to use either `displot` (a figure-level function with similar flexibility) or `histplot` (an axes-level function for histograms).\n",
            "  warnings.warn(msg, FutureWarning)\n"
          ]
        },
        {
          "output_type": "execute_result",
          "data": {
            "text/plain": [
              "<matplotlib.axes._subplots.AxesSubplot at 0x7fbb89cee390>"
            ]
          },
          "metadata": {},
          "execution_count": 52
        },
        {
          "output_type": "display_data",
          "data": {
            "text/plain": [
              "<Figure size 432x288 with 1 Axes>"
            ],
            "image/png": "[encoded data removed]"
          },
          "metadata": {
            "needs_background": "light"
          }
        }
      ]
    },
    {
      "cell_type": "markdown",
      "source": [
        "### **Inference:**\n",
        "    1. The area of a glazing assembly is the interior surface area of the entire assembly.\n",
        "    2. Distribution is Asymmetrical in which the upper quartile is equal to maximum.\n",
        "    3. Maximum Glazing Area is 0.40."
      ],
      "metadata": {
        "id": "KbiitEVWF3oZ"
      }
    },
    {
      "cell_type": "code",
      "source": [
        "plt.figure(figsize = (20, 15))\n",
        "\n",
        "ax = plt.subplot(242)\n",
        "plt.boxplot(df.Glazing_Area_Distribution)\n",
        "ax.set_title('Glazing Area Distribution')"
      ],
      "metadata": {
        "colab": {
          "base_uri": "https://localhost:8080/",
          "height": 452
        },
        "id": "HQ6ktR_GFfpX",
        "outputId": "6cf72e78-3205-47d7-dde3-c21afa62bc5d"
      },
      "execution_count": 53,
      "outputs": [
        {
          "output_type": "execute_result",
          "data": {
            "text/plain": [
              "Text(0.5, 1.0, 'Glazing Area Distribution')"
            ]
          },
          "metadata": {},
          "execution_count": 53
        },
        {
          "output_type": "display_data",
          "data": {
            "text/plain": [
              "<Figure size 1440x1080 with 1 Axes>"
            ],
            "image/png": "[encoded data removed]"
          },
          "metadata": {
            "needs_background": "light"
          }
        }
      ]
    },
    {
      "cell_type": "code",
      "source": [
        "sns.distplot(df['Glazing_Area_Distribution'], hist=True, kde=True, \n",
        "              color = 'limegreen', \n",
        "             hist_kws={'edgecolor':'black'},\n",
        "             kde_kws={'linewidth': 4})"
      ],
      "metadata": {
        "colab": {
          "base_uri": "https://localhost:8080/",
          "height": 352
        },
        "id": "aqVE_neUHwjX",
        "outputId": "381f4ba1-d2f5-4c11-cf55-892701d3f3a4"
      },
      "execution_count": 54,
      "outputs": [
        {
          "output_type": "stream",
          "name": "stderr",
          "text": [
            "/usr/local/lib/python3.7/dist-packages/seaborn/distributions.py:2619: FutureWarning: `distplot` is a deprecated function and will be removed in a future version. Please adapt your code to use either `displot` (a figure-level function with similar flexibility) or `histplot` (an axes-level function for histograms).\n",
            "  warnings.warn(msg, FutureWarning)\n"
          ]
        },
        {
          "output_type": "execute_result",
          "data": {
            "text/plain": [
              "<matplotlib.axes._subplots.AxesSubplot at 0x7fbb89be4490>"
            ]
          },
          "metadata": {},
          "execution_count": 54
        },
        {
          "output_type": "display_data",
          "data": {
            "text/plain": [
              "<Figure size 432x288 with 1 Axes>"
            ],
            "image/png": "[encoded data removed]"
          },
          "metadata": {
            "needs_background": "light"
          }
        }
      ]
    },
    {
      "cell_type": "markdown",
      "source": [
        "### **Inference:**\n",
        "    1. Distribution is Negatively Skewed also called as Left Skewed.\n",
        "    2. Median Glazing Area Distribution is about 3 for the given dataset. "
      ],
      "metadata": {
        "id": "8zcX8kskI0Fc"
      }
    },
    {
      "cell_type": "code",
      "source": [
        "plt.figure(figsize = (20, 15))\n",
        "\n",
        "ax = plt.subplot(242)\n",
        "plt.boxplot(df.Heating_Load)\n",
        "ax.set_title('Heating Load')"
      ],
      "metadata": {
        "colab": {
          "base_uri": "https://localhost:8080/",
          "height": 452
        },
        "id": "0f9oA0nIIxx6",
        "outputId": "740c9b52-2b75-4a59-abe0-6c9a73c69da0"
      },
      "execution_count": 55,
      "outputs": [
        {
          "output_type": "execute_result",
          "data": {
            "text/plain": [
              "Text(0.5, 1.0, 'Heating Load')"
            ]
          },
          "metadata": {},
          "execution_count": 55
        },
        {
          "output_type": "display_data",
          "data": {
            "text/plain": [
              "<Figure size 1440x1080 with 1 Axes>"
            ],
            "image/png": "[encoded data removed]"
          },
          "metadata": {
            "needs_background": "light"
          }
        }
      ]
    },
    {
      "cell_type": "markdown",
      "source": [
        "### **Inference:**\n",
        "    1. Distribution for Heating Load is Positively Skewed also known as Right Skewed. "
      ],
      "metadata": {
        "id": "A7VEhdaMPlg-"
      }
    },
    {
      "cell_type": "code",
      "source": [
        "plt.figure(figsize = (20, 15))\n",
        "\n",
        "ax = plt.subplot(242)\n",
        "plt.boxplot(df.Cooling_Load)\n",
        "ax.set_title('Cooling Load')"
      ],
      "metadata": {
        "colab": {
          "base_uri": "https://localhost:8080/",
          "height": 452
        },
        "id": "yjXHSBAgPYEZ",
        "outputId": "a757b6cb-c9f2-4d54-ddc9-3079cc5b5710"
      },
      "execution_count": 56,
      "outputs": [
        {
          "output_type": "execute_result",
          "data": {
            "text/plain": [
              "Text(0.5, 1.0, 'Cooling Load')"
            ]
          },
          "metadata": {},
          "execution_count": 56
        },
        {
          "output_type": "display_data",
          "data": {
            "text/plain": [
              "<Figure size 1440x1080 with 1 Axes>"
            ],
            "image/png": "[encoded data removed]"
          },
          "metadata": {
            "needs_background": "light"
          }
        }
      ]
    },
    {
      "cell_type": "markdown",
      "source": [
        "### **Inference:**\n",
        "     1. Distribution for Cooling Load is Positively Skewed."
      ],
      "metadata": {
        "id": "rL_KdzkHQPUb"
      }
    },
    {
      "cell_type": "markdown",
      "source": [
        "# **Inference for given dataset:**\n",
        "     1. From the above plots, most of the features have a positive skew except for a few and 'Orientation' and 'Overall_Height' have quite symetrical distribution."
      ],
      "metadata": {
        "id": "pLXcW0F0TNUY"
      }
    },
    {
      "cell_type": "code",
      "source": [
        "# Visualizing the distribution of both target values\n",
        "plt.figure(figsize=(5,5))\n",
        "sns.distplot((df.Heating_Load), hist=True, kde=True, \n",
        "               color = 'Y')\n",
        "sns.distplot((df.Cooling_Load), hist=True, kde=True, \n",
        "                color = 'G')\n",
        "plt.title('Heating Load and Cooling Load')\n",
        "plt.legend(['Heating Load','Cooling Load'])"
      ],
      "metadata": {
        "colab": {
          "base_uri": "https://localhost:8080/",
          "height": 458
        },
        "id": "ODSXQxfFSYhJ",
        "outputId": "3cf0f610-5753-4405-8f6f-032911b9412c"
      },
      "execution_count": 90,
      "outputs": [
        {
          "output_type": "stream",
          "name": "stderr",
          "text": [
            "/usr/local/lib/python3.7/dist-packages/seaborn/distributions.py:2619: FutureWarning: `distplot` is a deprecated function and will be removed in a future version. Please adapt your code to use either `displot` (a figure-level function with similar flexibility) or `histplot` (an axes-level function for histograms).\n",
            "  warnings.warn(msg, FutureWarning)\n",
            "/usr/local/lib/python3.7/dist-packages/seaborn/distributions.py:2619: FutureWarning: `distplot` is a deprecated function and will be removed in a future version. Please adapt your code to use either `displot` (a figure-level function with similar flexibility) or `histplot` (an axes-level function for histograms).\n",
            "  warnings.warn(msg, FutureWarning)\n"
          ]
        },
        {
          "output_type": "execute_result",
          "data": {
            "text/plain": [
              "<matplotlib.legend.Legend at 0x7fbb87f4a950>"
            ]
          },
          "metadata": {},
          "execution_count": 90
        },
        {
          "output_type": "display_data",
          "data": {
            "text/plain": [
              "<Figure size 360x360 with 1 Axes>"
            ],
            "image/png": "[encoded data removed]"
          },
          "metadata": {
            "needs_background": "light"
          }
        }
      ]
    },
    {
      "cell_type": "markdown",
      "source": [
        "### **Inference:**\n",
        "        For both Heating Load and Cooling Load most of datas are ranges between 10 to 20."
      ],
      "metadata": {
        "id": "lp_cNLW2S4f4"
      }
    },
    {
      "cell_type": "markdown",
      "source": [
        "# **Correlation**"
      ],
      "metadata": {
        "id": "yzI_xu1qKI6E"
      }
    },
    {
      "cell_type": "code",
      "source": [
        " df.corr()"
      ],
      "metadata": {
        "colab": {
          "base_uri": "https://localhost:8080/",
          "height": 600
        },
        "id": "vhbRAj0wKRqt",
        "outputId": "6bf285b4-481f-4efd-b040-db361d00a4bb"
      },
      "execution_count": 58,
      "outputs": [
        {
          "output_type": "execute_result",
          "data": {
            "text/plain": [
              "                           Relative_Compactness  Surface_Area     Wall_Area  \\\n",
              "Relative_Compactness               1.000000e+00 -9.919015e-01 -2.037817e-01   \n",
              "Surface_Area                      -9.919015e-01  1.000000e+00  1.955016e-01   \n",
              "Wall_Area                         -2.037817e-01  1.955016e-01  1.000000e+00   \n",
              "Roof_Area                         -8.688234e-01  8.807195e-01 -2.923165e-01   \n",
              "Overall_Height                     8.277473e-01 -8.581477e-01  2.809757e-01   \n",
              "Orientation                        4.678592e-17 -3.459372e-17 -2.429499e-17   \n",
              "Glazing_Area                      -2.960552e-15  3.636925e-15 -8.567455e-17   \n",
              "Glazing_Area_Distribution         -7.107006e-16  2.438409e-15  2.067384e-16   \n",
              "Heating_Load                       6.222722e-01 -6.581202e-01  4.556712e-01   \n",
              "Cooling_Load                       6.343391e-01 -6.729989e-01  4.271170e-01   \n",
              "\n",
              "                              Roof_Area  Overall_Height   Orientation  \\\n",
              "Relative_Compactness      -8.688234e-01    8.277473e-01  4.678592e-17   \n",
              "Surface_Area               8.807195e-01   -8.581477e-01 -3.459372e-17   \n",
              "Wall_Area                 -2.923165e-01    2.809757e-01 -2.429499e-17   \n",
              "Roof_Area                  1.000000e+00   -9.725122e-01 -5.830058e-17   \n",
              "Overall_Height            -9.725122e-01    1.000000e+00  4.492205e-17   \n",
              "Orientation               -5.830058e-17    4.492205e-17  1.000000e+00   \n",
              "Glazing_Area              -1.759011e-15    1.489134e-17 -9.406007e-16   \n",
              "Glazing_Area_Distribution -1.078071e-15   -2.920613e-17 -2.549352e-16   \n",
              "Heating_Load              -8.618283e-01    8.894307e-01 -2.586534e-03   \n",
              "Cooling_Load              -8.625466e-01    8.957852e-01  1.428960e-02   \n",
              "\n",
              "                           Glazing_Area  Glazing_Area_Distribution  \\\n",
              "Relative_Compactness      -2.960552e-15              -7.107006e-16   \n",
              "Surface_Area               3.636925e-15               2.438409e-15   \n",
              "Wall_Area                 -8.567455e-17               2.067384e-16   \n",
              "Roof_Area                 -1.759011e-15              -1.078071e-15   \n",
              "Overall_Height             1.489134e-17              -2.920613e-17   \n",
              "Orientation               -9.406007e-16              -2.549352e-16   \n",
              "Glazing_Area               1.000000e+00               2.129642e-01   \n",
              "Glazing_Area_Distribution  2.129642e-01               1.000000e+00   \n",
              "Heating_Load               2.698410e-01               8.736759e-02   \n",
              "Cooling_Load               2.075050e-01               5.052512e-02   \n",
              "\n",
              "                           Heating_Load  Cooling_Load  \n",
              "Relative_Compactness           0.622272      0.634339  \n",
              "Surface_Area                  -0.658120     -0.672999  \n",
              "Wall_Area                      0.455671      0.427117  \n",
              "Roof_Area                     -0.861828     -0.862547  \n",
              "Overall_Height                 0.889431      0.895785  \n",
              "Orientation                   -0.002587      0.014290  \n",
              "Glazing_Area                   0.269841      0.207505  \n",
              "Glazing_Area_Distribution      0.087368      0.050525  \n",
              "Heating_Load                   1.000000      0.975862  \n",
              "Cooling_Load                   0.975862      1.000000  "
            ],
            "text/html": [
              "\n",
              "  <div id=\"df-6ffae268-a6a5-4cd8-9fe6-642a2189d55c\">\n",
              "    <div class=\"colab-df-container\">\n",
              "      <div>\n",
              "<style scoped>\n",
              "    .dataframe tbody tr th:only-of-type {\n",
              "        vertical-align: middle;\n",
              "    }\n",
              "\n",
              "    .dataframe tbody tr th {\n",
              "        vertical-align: top;\n",
              "    }\n",
              "\n",
              "    .dataframe thead th {\n",
              "        text-align: right;\n",
              "    }\n",
              "</style>\n",
              "<table border=\"1\" class=\"dataframe\">\n",
              "  <thead>\n",
              "    <tr style=\"text-align: right;\">\n",
              "      <th></th>\n",
              "      <th>Relative_Compactness</th>\n",
              "      <th>Surface_Area</th>\n",
              "      <th>Wall_Area</th>\n",
              "      <th>Roof_Area</th>\n",
              "      <th>Overall_Height</th>\n",
              "      <th>Orientation</th>\n",
              "      <th>Glazing_Area</th>\n",
              "      <th>Glazing_Area_Distribution</th>\n",
              "      <th>Heating_Load</th>\n",
              "      <th>Cooling_Load</th>\n",
              "    </tr>\n",
              "  </thead>\n",
              "  <tbody>\n",
              "    <tr>\n",
              "      <th>Relative_Compactness</th>\n",
              "      <td>1.000000e+00</td>\n",
              "      <td>-9.919015e-01</td>\n",
              "      <td>-2.037817e-01</td>\n",
              "      <td>-8.688234e-01</td>\n",
              "      <td>8.277473e-01</td>\n",
              "      <td>4.678592e-17</td>\n",
              "      <td>-2.960552e-15</td>\n",
              "      <td>-7.107006e-16</td>\n",
              "      <td>0.622272</td>\n",
              "      <td>0.634339</td>\n",
              "    </tr>\n",
              "    <tr>\n",
              "      <th>Surface_Area</th>\n",
              "      <td>-9.919015e-01</td>\n",
              "      <td>1.000000e+00</td>\n",
              "      <td>1.955016e-01</td>\n",
              "      <td>8.807195e-01</td>\n",
              "      <td>-8.581477e-01</td>\n",
              "      <td>-3.459372e-17</td>\n",
              "      <td>3.636925e-15</td>\n",
              "      <td>2.438409e-15</td>\n",
              "      <td>-0.658120</td>\n",
              "      <td>-0.672999</td>\n",
              "    </tr>\n",
              "    <tr>\n",
              "      <th>Wall_Area</th>\n",
              "      <td>-2.037817e-01</td>\n",
              "      <td>1.955016e-01</td>\n",
              "      <td>1.000000e+00</td>\n",
              "      <td>-2.923165e-01</td>\n",
              "      <td>2.809757e-01</td>\n",
              "      <td>-2.429499e-17</td>\n",
              "      <td>-8.567455e-17</td>\n",
              "      <td>2.067384e-16</td>\n",
              "      <td>0.455671</td>\n",
              "      <td>0.427117</td>\n",
              "    </tr>\n",
              "    <tr>\n",
              "      <th>Roof_Area</th>\n",
              "      <td>-8.688234e-01</td>\n",
              "      <td>8.807195e-01</td>\n",
              "      <td>-2.923165e-01</td>\n",
              "      <td>1.000000e+00</td>\n",
              "      <td>-9.725122e-01</td>\n",
              "      <td>-5.830058e-17</td>\n",
              "      <td>-1.759011e-15</td>\n",
              "      <td>-1.078071e-15</td>\n",
              "      <td>-0.861828</td>\n",
              "      <td>-0.862547</td>\n",
              "    </tr>\n",
              "    <tr>\n",
              "      <th>Overall_Height</th>\n",
              "      <td>8.277473e-01</td>\n",
              "      <td>-8.581477e-01</td>\n",
              "      <td>2.809757e-01</td>\n",
              "      <td>-9.725122e-01</td>\n",
              "      <td>1.000000e+00</td>\n",
              "      <td>4.492205e-17</td>\n",
              "      <td>1.489134e-17</td>\n",
              "      <td>-2.920613e-17</td>\n",
              "      <td>0.889431</td>\n",
              "      <td>0.895785</td>\n",
              "    </tr>\n",
              "    <tr>\n",
              "      <th>Orientation</th>\n",
              "      <td>4.678592e-17</td>\n",
              "      <td>-3.459372e-17</td>\n",
              "      <td>-2.429499e-17</td>\n",
              "      <td>-5.830058e-17</td>\n",
              "      <td>4.492205e-17</td>\n",
              "      <td>1.000000e+00</td>\n",
              "      <td>-9.406007e-16</td>\n",
              "      <td>-2.549352e-16</td>\n",
              "      <td>-0.002587</td>\n",
              "      <td>0.014290</td>\n",
              "    </tr>\n",
              "    <tr>\n",
              "      <th>Glazing_Area</th>\n",
              "      <td>-2.960552e-15</td>\n",
              "      <td>3.636925e-15</td>\n",
              "      <td>-8.567455e-17</td>\n",
              "      <td>-1.759011e-15</td>\n",
              "      <td>1.489134e-17</td>\n",
              "      <td>-9.406007e-16</td>\n",
              "      <td>1.000000e+00</td>\n",
              "      <td>2.129642e-01</td>\n",
              "      <td>0.269841</td>\n",
              "      <td>0.207505</td>\n",
              "    </tr>\n",
              "    <tr>\n",
              "      <th>Glazing_Area_Distribution</th>\n",
              "      <td>-7.107006e-16</td>\n",
              "      <td>2.438409e-15</td>\n",
              "      <td>2.067384e-16</td>\n",
              "      <td>-1.078071e-15</td>\n",
              "      <td>-2.920613e-17</td>\n",
              "      <td>-2.549352e-16</td>\n",
              "      <td>2.129642e-01</td>\n",
              "      <td>1.000000e+00</td>\n",
              "      <td>0.087368</td>\n",
              "      <td>0.050525</td>\n",
              "    </tr>\n",
              "    <tr>\n",
              "      <th>Heating_Load</th>\n",
              "      <td>6.222722e-01</td>\n",
              "      <td>-6.581202e-01</td>\n",
              "      <td>4.556712e-01</td>\n",
              "      <td>-8.618283e-01</td>\n",
              "      <td>8.894307e-01</td>\n",
              "      <td>-2.586534e-03</td>\n",
              "      <td>2.698410e-01</td>\n",
              "      <td>8.736759e-02</td>\n",
              "      <td>1.000000</td>\n",
              "      <td>0.975862</td>\n",
              "    </tr>\n",
              "    <tr>\n",
              "      <th>Cooling_Load</th>\n",
              "      <td>6.343391e-01</td>\n",
              "      <td>-6.729989e-01</td>\n",
              "      <td>4.271170e-01</td>\n",
              "      <td>-8.625466e-01</td>\n",
              "      <td>8.957852e-01</td>\n",
              "      <td>1.428960e-02</td>\n",
              "      <td>2.075050e-01</td>\n",
              "      <td>5.052512e-02</td>\n",
              "      <td>0.975862</td>\n",
              "      <td>1.000000</td>\n",
              "    </tr>\n",
              "  </tbody>\n",
              "</table>\n",
              "</div>\n",
              "      <button class=\"colab-df-convert\" onclick=\"convertToInteractive('df-6ffae268-a6a5-4cd8-9fe6-642a2189d55c')\"\n",
              "              title=\"Convert this dataframe to an interactive table.\"\n",
              "              style=\"display:none;\">\n",
              "        \n",
              "  <svg xmlns=\"http://www.w3.org/2000/svg\" height=\"24px\"viewBox=\"0 0 24 24\"\n",
              "       width=\"24px\">\n",
              "    <path d=\"M0 0h24v24H0V0z\" fill=\"none\"/>\n",
              "    <path d=\"M18.56 5.44l.94 2.06.94-2.06 2.06-.94-2.06-.94-.94-2.06-.94 2.06-2.06.94zm-11 1L8.5 8.5l.94-2.06 2.06-.94-2.06-.94L8.5 2.5l-.94 2.06-2.06.94zm10 10l.94 2.06.94-2.06 2.06-.94-2.06-.94-.94-2.06-.94 2.06-2.06.94z\"/><path d=\"M17.41 7.96l-1.37-1.37c-.4-.4-.92-.59-1.43-.59-.52 0-1.04.2-1.43.59L10.3 9.45l-7.72 7.72c-.78.78-.78 2.05 0 2.83L4 21.41c.39.39.9.59 1.41.59.51 0 1.02-.2 1.41-.59l7.78-7.78 2.81-2.81c.8-.78.8-2.07 0-2.86zM5.41 20L4 18.59l7.72-7.72 1.47 1.35L5.41 20z\"/>\n",
              "  </svg>\n",
              "      </button>\n",
              "      \n",
              "  <style>\n",
              "    .colab-df-container {\n",
              "      display:flex;\n",
              "      flex-wrap:wrap;\n",
              "      gap: 12px;\n",
              "    }\n",
              "\n",
              "    .colab-df-convert {\n",
              "      background-color: #E8F0FE;\n",
              "      border: none;\n",
              "      border-radius: 50%;\n",
              "      cursor: pointer;\n",
              "      display: none;\n",
              "      fill: #1967D2;\n",
              "      height: 32px;\n",
              "      padding: 0 0 0 0;\n",
              "      width: 32px;\n",
              "    }\n",
              "\n",
              "    .colab-df-convert:hover {\n",
              "      background-color: #E2EBFA;\n",
              "      box-shadow: 0px 1px 2px rgba(60, 64, 67, 0.3), 0px 1px 3px 1px rgba(60, 64, 67, 0.15);\n",
              "      fill: #174EA6;\n",
              "    }\n",
              "\n",
              "    [theme=dark] .colab-df-convert {\n",
              "      background-color: #3B4455;\n",
              "      fill: #D2E3FC;\n",
              "    }\n",
              "\n",
              "    [theme=dark] .colab-df-convert:hover {\n",
              "      background-color: #434B5C;\n",
              "      box-shadow: 0px 1px 3px 1px rgba(0, 0, 0, 0.15);\n",
              "      filter: drop-shadow(0px 1px 2px rgba(0, 0, 0, 0.3));\n",
              "      fill: #FFFFFF;\n",
              "    }\n",
              "  </style>\n",
              "\n",
              "      <script>\n",
              "        const buttonEl =\n",
              "          document.querySelector('#df-6ffae268-a6a5-4cd8-9fe6-642a2189d55c button.colab-df-convert');\n",
              "        buttonEl.style.display =\n",
              "          google.colab.kernel.accessAllowed ? 'block' : 'none';\n",
              "\n",
              "        async function convertToInteractive(key) {\n",
              "          const element = document.querySelector('#df-6ffae268-a6a5-4cd8-9fe6-642a2189d55c');\n",
              "          const dataTable =\n",
              "            await google.colab.kernel.invokeFunction('convertToInteractive',\n",
              "                                                     [key], {});\n",
              "          if (!dataTable) return;\n",
              "\n",
              "          const docLinkHtml = 'Like what you see? Visit the ' +\n",
              "            '<a target=\"_blank\" href=https://colab.research.google.com/notebooks/data_table.ipynb>data table notebook</a>'\n",
              "            + ' to learn more about interactive tables.';\n",
              "          element.innerHTML = '';\n",
              "          dataTable['output_type'] = 'display_data';\n",
              "          await google.colab.output.renderOutput(dataTable, element);\n",
              "          const docLink = document.createElement('div');\n",
              "          docLink.innerHTML = docLinkHtml;\n",
              "          element.appendChild(docLink);\n",
              "        }\n",
              "      </script>\n",
              "    </div>\n",
              "  </div>\n",
              "  "
            ]
          },
          "metadata": {},
          "execution_count": 58
        }
      ]
    },
    {
      "cell_type": "code",
      "source": [
        "f,ax = plt.subplots(figsize=(20, 10))\n",
        "sns.heatmap(df.corr(), cbar = True,  square = True, annot = True, fmt= '0.3f', \n",
        "            xticklabels= True, yticklabels= True\n",
        "            ,cmap=\"coolwarm_r\", linewidths=.5, ax=ax)\n",
        "plt.title('CORRELATION MATRIX - HEATMAP', size=18)"
      ],
      "metadata": {
        "colab": {
          "base_uri": "https://localhost:8080/",
          "height": 748
        },
        "id": "pVExefiAKe3q",
        "outputId": "424e06e0-712e-4a6c-e1ae-b04f25c0441f"
      },
      "execution_count": 59,
      "outputs": [
        {
          "output_type": "execute_result",
          "data": {
            "text/plain": [
              "Text(0.5, 1.0, 'CORRELATION MATRIX - HEATMAP')"
            ]
          },
          "metadata": {},
          "execution_count": 59
        },
        {
          "output_type": "display_data",
          "data": {
            "text/plain": [
              "<Figure size 1440x720 with 2 Axes>"
            ],
            "image/png": "[encoded data removed]"
          },
          "metadata": {
            "needs_background": "light"
          }
        }
      ]
    },
    {
      "cell_type": "markdown",
      "source": [
        "## **Inference:**\n",
        "     1. Overall Height has the highest correlation with both Heating Load and Cooling Load.\n",
        "     2. Surface Area and Roof Area has negative correlation with Heating Load and Cooling Load.\n",
        "     3. Orientation has low correlation attribute.\n",
        "     4. High Correlation is obtained between Overall Height-Relative Compactness=0.828, Surface Area-Roof Area = 0.881, Overall Height-Cooling Load=0.896, Overall Height-Heating Load=0.889.   "
      ],
      "metadata": {
        "id": "kCjPQ8v1O88V"
      }
    },
    {
      "cell_type": "markdown",
      "source": [
        "# **Machine Learning**"
      ],
      "metadata": {
        "id": "y8eCVedtJiFM"
      }
    },
    {
      "cell_type": "markdown",
      "source": [
        "## Spliting the data into train and test sets"
      ],
      "metadata": {
        "id": "dndeUP71961q"
      }
    },
    {
      "cell_type": "code",
      "source": [
        "x = df.drop(columns=['Heating_Load','Cooling_Load'])\n",
        "y1 = df['Heating_Load']\n",
        "y2 = df['Cooling_Load']"
      ],
      "metadata": {
        "id": "B4C1vMSnQm4o"
      },
      "execution_count": 60,
      "outputs": []
    },
    {
      "cell_type": "code",
      "source": [
        "x1_train, x1_test, y1_train, y1_test = train_test_split(x, y1, test_size=0.33, random_state=42)\n",
        "x2_train, x2_test, y2_train, y2_test = train_test_split(x, y2, test_size=0.33, random_state=24)"
      ],
      "metadata": {
        "id": "Nh0GQGG-ETkP"
      },
      "execution_count": 61,
      "outputs": []
    },
    {
      "cell_type": "markdown",
      "source": [
        "# **Random Forest Regressor**"
      ],
      "metadata": {
        "id": "M5mrlmLjx6jh"
      }
    },
    {
      "cell_type": "markdown",
      "source": [
        "### Feature Selection Using RFE"
      ],
      "metadata": {
        "id": "gl-YPlPmi3d4"
      }
    },
    {
      "cell_type": "code",
      "source": [
        "#Feature selection for y1 Heating_Load\n",
        "rr = RandomForestRegressor()\n",
        "rfe = RFE(rr)\n",
        "fit = rfe.fit(x,y1)\n",
        "print(\"Feature Selection for Heating Load:\")\n",
        "print(\"Num Features: %d\" % fit.n_features_)\n",
        "print(\"Selected Features: %s\" % fit.support_)\n",
        "print(\"Feature Ranking: %s\" % fit.ranking_)"
      ],
      "metadata": {
        "colab": {
          "base_uri": "https://localhost:8080/"
        },
        "id": "mVyyg8odpAqE",
        "outputId": "1d41c9ab-139b-4a59-bc04-0df2131f6f9b"
      },
      "execution_count": 62,
      "outputs": [
        {
          "output_type": "stream",
          "name": "stdout",
          "text": [
            "Feature Selection for Heating Load:\n",
            "Num Features: 4\n",
            "Selected Features: [ True  True False  True  True False False False]\n",
            "Feature Ranking: [1 1 3 1 1 5 2 4]\n"
          ]
        }
      ]
    },
    {
      "cell_type": "markdown",
      "source": [
        "Top **4** Features for predicting **Heating Load** by using Recursive Feature Elimination are:\n",
        "\n",
        "1. Relative_Compactness\t\n",
        "2. Surface_Area\t\n",
        "3. Roof_Area\n",
        "4. Glazing_Area\n",
        "\n",
        "\n"
      ],
      "metadata": {
        "id": "QSZsqJYjhqxs"
      }
    },
    {
      "cell_type": "code",
      "source": [
        "#Feature selection for y2 Cooling_Load \n",
        "rr = RandomForestRegressor()\n",
        "rfe = RFE(rr)\n",
        "fit = rfe.fit(x,y2)\n",
        "print(\"Feature Selection for Cooling Load:\")\n",
        "print(\"Num Features: %d\" % fit.n_features_)\n",
        "print(\"Selected Features: %s\" % fit.support_)\n",
        "print(\"Feature Ranking: %s\" % fit.ranking_)"
      ],
      "metadata": {
        "colab": {
          "base_uri": "https://localhost:8080/"
        },
        "id": "gvQLF0MUp1HH",
        "outputId": "29acfc3f-4e10-4fbc-c204-28ad8bc92d9b"
      },
      "execution_count": 63,
      "outputs": [
        {
          "output_type": "stream",
          "name": "stdout",
          "text": [
            "Feature Selection for Cooling Load:\n",
            "Num Features: 4\n",
            "Selected Features: [ True  True False False  True False  True False]\n",
            "Feature Ranking: [1 1 3 2 1 5 1 4]\n"
          ]
        }
      ]
    },
    {
      "cell_type": "markdown",
      "source": [
        "Top **4** Features for predicting **Cooling Load** by using Recursive Feature Elimination are:\n",
        "\n",
        "1. Relative_Compactness\n",
        "2. Surface_Area\n",
        "3. Roof_Area\n",
        "4. Overall_Height"
      ],
      "metadata": {
        "id": "beFdsQ3CjlkW"
      }
    },
    {
      "cell_type": "code",
      "source": [
        "rf_hot =RandomForestRegressor()\n",
        "rf_cold =RandomForestRegressor()"
      ],
      "metadata": {
        "id": "xZdDaL5AXEyo"
      },
      "execution_count": 64,
      "outputs": []
    },
    {
      "cell_type": "code",
      "source": [
        "rf_hot.fit(x1_train,y1_train) #target as Heating Load\n",
        "rf_cold.fit(x2_train,y2_train) #target as Cooling load\n",
        "\n",
        "y1_pre = rf_hot.predict(x1_test)\n",
        "y2_pre = rf_cold.predict(x2_test)\n"
      ],
      "metadata": {
        "id": "qzJsyzJJygih"
      },
      "execution_count": 65,
      "outputs": []
    },
    {
      "cell_type": "code",
      "source": [
        "#Heating Load \n",
        "print('Mean Absolute Error for Heating Load:', metrics.mean_absolute_error(y1_test, y1_pre))\n",
        "print('Mean Squared Error for Heating Load:', metrics.mean_squared_error(y1_test, y1_pre))\n",
        "print(' Root Mean Squared Error for Heating Load:', np.sqrt(metrics.mean_squared_error(y1_test, y1_pre)))\n",
        "print('Random Forest Regressor Model score for Heating Load :', cross_val_score(rf_hot, x, y1, cv=10, scoring = \"r2\").mean()*100)"
      ],
      "metadata": {
        "id": "FBF5REdvy4pI",
        "colab": {
          "base_uri": "https://localhost:8080/"
        },
        "outputId": "d9daede3-456b-4976-9d0b-5cef8aa50d09"
      },
      "execution_count": 66,
      "outputs": [
        {
          "output_type": "stream",
          "name": "stdout",
          "text": [
            "Mean Absolute Error for Heating Load: 0.33662007874015654\n",
            "Mean Squared Error for Heating Load: 0.23064497177165263\n",
            " Root Mean Squared Error for Heating Load: 0.4802551111353763\n",
            "Random Forest Regressor Model score for Heating Load : 96.91029498687898\n"
          ]
        }
      ]
    },
    {
      "cell_type": "code",
      "source": [
        "#Cooling Load \n",
        "print('Mean Absolute Error for Heating Load:', metrics.mean_absolute_error(y2_test, y2_pre))\n",
        "print('Mean Squared Error for Heating Load:', metrics.mean_squared_error(y2_test, y2_pre))\n",
        "print(' Root Mean Squared Error for Heating Load:', np.sqrt(metrics.mean_squared_error(y2_test, y2_pre)))\n",
        "print('Random Forest Regressor Model score for Cooling Load :', cross_val_score(rf_cold, x, y2, cv=10, scoring = \"r2\").mean()*100)"
      ],
      "metadata": {
        "colab": {
          "base_uri": "https://localhost:8080/"
        },
        "id": "_W_L5SqjrVHN",
        "outputId": "835c26db-b372-493d-c718-35a880991fa6"
      },
      "execution_count": 67,
      "outputs": [
        {
          "output_type": "stream",
          "name": "stdout",
          "text": [
            "Mean Absolute Error for Heating Load: 1.1994374015748033\n",
            "Mean Squared Error for Heating Load: 4.0344968855511905\n",
            " Root Mean Squared Error for Heating Load: 2.0086057068402425\n",
            "Random Forest Regressor Model score for Cooling Load : 96.4484174904762\n"
          ]
        }
      ]
    },
    {
      "cell_type": "markdown",
      "source": [
        "# **Inference:**\n",
        "    1.  All the Errors for Heating Load is very small which is less than 0.5.\n",
        "    2. Random Forest Regressor Model score for Heating Load is 97% which is perfect score."
      ],
      "metadata": {
        "id": "2s07EigksBCL"
      }
    },
    {
      "cell_type": "markdown",
      "source": [
        "# **Linear Regression**"
      ],
      "metadata": {
        "id": "oE67nVqtqzDK"
      }
    },
    {
      "cell_type": "code",
      "source": [
        "lr_hot = LinearRegression() \n",
        "lr_cold = LinearRegression()"
      ],
      "metadata": {
        "id": "q0SLRizQqzDL"
      },
      "execution_count": 68,
      "outputs": []
    },
    {
      "cell_type": "code",
      "source": [
        "lr_hot.fit(x1_train,y1_train)#target as Heating Load\n",
        "lr_cold.fit(x2_train,y2_train)#target as Cooling Load\n",
        "\n",
        "y1_pred = lr_hot.predict(x1_test)\n",
        "y2_pred = lr_cold.predict(x2_test)\n"
      ],
      "metadata": {
        "id": "ycDxQGyQqzDL"
      },
      "execution_count": 69,
      "outputs": []
    },
    {
      "cell_type": "code",
      "source": [
        "#Heating Load \n",
        "print('Mean Absolute Error for Heating Load:', metrics.mean_absolute_error(y1_test, y1_pred))\n",
        "print('Mean Squared Error for Heating Load:', metrics.mean_squared_error(y1_test, y1_pred))\n",
        "print(' Root Mean Squared Error for Heating Load:', np.sqrt(metrics.mean_squared_error(y1_test, y1_pred)))\n",
        "print('Linear Regression Model score for Heating Load :', cross_val_score(lr_hot, x, y1, cv=10, scoring = \"r2\").mean()*100)"
      ],
      "metadata": {
        "colab": {
          "base_uri": "https://localhost:8080/"
        },
        "outputId": "ed9a22ee-3359-41e9-99c5-4458cc7358df",
        "id": "VcSGZBsBqzDM"
      },
      "execution_count": 70,
      "outputs": [
        {
          "output_type": "stream",
          "name": "stdout",
          "text": [
            "Mean Absolute Error for Heating Load: 2.1386637194398155\n",
            "Mean Squared Error for Heating Load: 8.768945176836622\n",
            " Root Mean Squared Error for Heating Load: 2.9612404793999123\n",
            "Linear Regression Model score for Heating Load : 89.2268769719592\n"
          ]
        }
      ]
    },
    {
      "cell_type": "code",
      "source": [
        "#Cooling Load\n",
        "print('Mean Absolute Error for Cooling Load:', metrics.mean_absolute_error(y2_test, y2_pred))\n",
        "print('Mean Squared Error for Cooling Load:', metrics.mean_squared_error(y2_test, y2_pred))\n",
        "print(' Root Mean Squared Error for Cooling Load:', np.sqrt(metrics.mean_squared_error(y2_test, y2_pred)))\n",
        "print('Linear Regression Model score for Cooling Load :', cross_val_score(lr_cold, x, y2, cv=10, scoring = \"r2\").mean()*100)"
      ],
      "metadata": {
        "colab": {
          "base_uri": "https://localhost:8080/"
        },
        "outputId": "e92ae155-72fd-43eb-d94f-d513d2b01341",
        "id": "xONMgznZqzDM"
      },
      "execution_count": 71,
      "outputs": [
        {
          "output_type": "stream",
          "name": "stdout",
          "text": [
            "Mean Absolute Error for Cooling Load: 2.3885377158010654\n",
            "Mean Squared Error for Cooling Load: 11.049369986793232\n",
            " Root Mean Squared Error for Cooling Load: 3.324059263429765\n",
            "Linear Regression Model score for Cooling Load : 87.62156243624281\n"
          ]
        }
      ]
    },
    {
      "cell_type": "markdown",
      "source": [
        "# **Inference:**\n",
        "    1. Linear Regression Score for Heating Load is slightly high when compared to Cooling Load.\n",
        "    2. Also Errors are high for Cooling Load."
      ],
      "metadata": {
        "id": "uvtzGPj_qzDN"
      }
    },
    {
      "cell_type": "markdown",
      "source": [
        "# **Decison Tree Regressor**"
      ],
      "metadata": {
        "id": "ATTzM24ntFiJ"
      }
    },
    {
      "cell_type": "code",
      "source": [
        "df_hot = DecisionTreeRegressor()\n",
        "df_cold= DecisionTreeRegressor()"
      ],
      "metadata": {
        "id": "Yv_u5XSBvIcJ"
      },
      "execution_count": 72,
      "outputs": []
    },
    {
      "cell_type": "code",
      "source": [
        "df_hot.fit(x1_train,y1_train)#target as Heating Load\n",
        "df_cold.fit(x2_train,y2_train)#target as Cooling Load\n",
        "\n",
        "y1_predict = df_hot.predict(x1_test)\n",
        "y2_predict = df_cold.predict(x2_test)\n"
      ],
      "metadata": {
        "id": "mfNOwaVPvIff"
      },
      "execution_count": 73,
      "outputs": []
    },
    {
      "cell_type": "code",
      "source": [
        "#Heating Load \n",
        "print('Mean Absolute Error for Heating Load:', metrics.mean_absolute_error(y1_test, y1_predict))\n",
        "print('Mean Squared Error for Heating Load:', metrics.mean_squared_error(y1_test, y1_predict))\n",
        "print(' Root Mean Squared Error for Heating Load:', np.sqrt(metrics.mean_squared_error(y1_test, y1_predict)))\n",
        "print('Decison Forest Regressor Model score for Heating Load :', cross_val_score(df_hot, x, y1, cv=10, scoring = \"r2\").mean()*100)"
      ],
      "metadata": {
        "colab": {
          "base_uri": "https://localhost:8080/"
        },
        "id": "_bROf0iDvh_s",
        "outputId": "af707da2-69bb-421a-918e-645162ed4c7a"
      },
      "execution_count": 74,
      "outputs": [
        {
          "output_type": "stream",
          "name": "stdout",
          "text": [
            "Mean Absolute Error for Heating Load: 0.40173228346456713\n",
            "Mean Squared Error for Heating Load: 0.3455188976377955\n",
            " Root Mean Squared Error for Heating Load: 0.5878085552608056\n",
            "Decison Forest Regressor Model score for Heating Load : 96.87168924085643\n"
          ]
        }
      ]
    },
    {
      "cell_type": "code",
      "source": [
        "#Cooling Load\n",
        "print('Mean Absolute Error for Cooling Load:', metrics.mean_absolute_error(y2_test, y2_predict))\n",
        "print('Mean Squared Error for Cooling Load:', metrics.mean_squared_error(y2_test, y2_predict))\n",
        "print(' Root Mean Squared Error for Cooling Load:', np.sqrt(metrics.mean_squared_error(y2_test, y2_predict)))\n",
        "print('Decison Forest Regressor Model score for Cooling Load :', cross_val_score(df_cold, x, y2, cv=10, scoring = \"r2\").mean()*100)"
      ],
      "metadata": {
        "colab": {
          "base_uri": "https://localhost:8080/"
        },
        "id": "nm65t_Amv95z",
        "outputId": "c8527610-9182-4934-b2f3-88277e577f3d"
      },
      "execution_count": 75,
      "outputs": [
        {
          "output_type": "stream",
          "name": "stdout",
          "text": [
            "Mean Absolute Error for Cooling Load: 1.3669291338582676\n",
            "Mean Squared Error for Cooling Load: 6.853196850393701\n",
            " Root Mean Squared Error for Cooling Load: 2.617861121296105\n",
            "Decison Forest Regressor Model score for Cooling Load : 95.54572594942634\n"
          ]
        }
      ]
    },
    {
      "cell_type": "markdown",
      "source": [
        "## **Inference:**\n",
        "     1. Decision Forest Regressor Score for both Heating and Cooling Load is more than 95%."
      ],
      "metadata": {
        "id": "7pEvNwI1wKWO"
      }
    },
    {
      "cell_type": "markdown",
      "source": [
        "# **K Nearest Neighbors**"
      ],
      "metadata": {
        "id": "WAOCNhsBwutA"
      }
    },
    {
      "cell_type": "code",
      "source": [
        "kn_hot = KNeighborsRegressor()\n",
        "kn_cold = KNeighborsRegressor()"
      ],
      "metadata": {
        "id": "RWozFLO5wIHm"
      },
      "execution_count": 76,
      "outputs": []
    },
    {
      "cell_type": "code",
      "source": [
        "kn_hot.fit(x1_train,y1_train)#target as Heating Load\n",
        "kn_cold.fit(x2_train,y2_train)#target as Cooling Load\n",
        "\n",
        "y1_pr = kn_hot.predict(x1_test)\n",
        "y2_pr = kn_cold.predict(x2_test)\n"
      ],
      "metadata": {
        "id": "ZfaPCNhGxYOi"
      },
      "execution_count": 77,
      "outputs": []
    },
    {
      "cell_type": "code",
      "source": [
        "#Heating Load \n",
        "print('Mean Absolute Error for Heating Load:', metrics.mean_absolute_error(y1_test, y1_pr))\n",
        "print('Mean Squared Error for Heating Load:', metrics.mean_squared_error(y1_test, y1_pr))\n",
        "print(' Root Mean Squared Error for Heating Load:', np.sqrt(metrics.mean_squared_error(y1_test, y1_pr)))\n",
        "print('K Nearest Neighbors Regressor Model score for Heating Load :', cross_val_score(kn_hot, x, y1, cv=10, scoring = \"r2\").mean()*100)"
      ],
      "metadata": {
        "colab": {
          "base_uri": "https://localhost:8080/"
        },
        "id": "zVpL38uuxlRT",
        "outputId": "01baf36b-eab0-4ed8-8dfe-a15559fb55b4"
      },
      "execution_count": 78,
      "outputs": [
        {
          "output_type": "stream",
          "name": "stdout",
          "text": [
            "Mean Absolute Error for Heating Load: 1.7531653543307086\n",
            "Mean Squared Error for Heating Load: 6.120974929133857\n",
            " Root Mean Squared Error for Heating Load: 2.4740604133961357\n",
            "K Nearest Neighbors Regressor Model score for Heating Load : 88.40399080049018\n"
          ]
        }
      ]
    },
    {
      "cell_type": "code",
      "source": [
        "#Cooling Load\n",
        "print('Mean Absolute Error for Cooling Load:', metrics.mean_absolute_error(y2_test, y2_pr))\n",
        "print('Mean Squared Error for Cooling Load:', metrics.mean_squared_error(y2_test, y2_pr))\n",
        "print(' Root Mean Squared Error for Cooling Load:', np.sqrt(metrics.mean_squared_error(y2_test, y2_pr)))\n",
        "print('Decison Forest Regressor Model score for Cooling Load :', cross_val_score(kn_cold, x, y2, cv=10, scoring = \"r2\").mean()*100)"
      ],
      "metadata": {
        "colab": {
          "base_uri": "https://localhost:8080/"
        },
        "id": "v0y2qhhfxwJ3",
        "outputId": "18a8c9f6-0d36-4520-e276-c6317cdbea61"
      },
      "execution_count": 79,
      "outputs": [
        {
          "output_type": "stream",
          "name": "stdout",
          "text": [
            "Mean Absolute Error for Cooling Load: 1.561700787401575\n",
            "Mean Squared Error for Cooling Load: 4.2796939212598435\n",
            " Root Mean Squared Error for Cooling Load: 2.0687421108634694\n",
            "Decison Forest Regressor Model score for Cooling Load : 92.47214986139231\n"
          ]
        }
      ]
    },
    {
      "cell_type": "markdown",
      "source": [
        "## **Inference:**\n",
        "    1. K Nearest Neighbors Score for Cooling Load is Higher than Heating Load. "
      ],
      "metadata": {
        "id": "74kYaI4ByEiB"
      }
    },
    {
      "cell_type": "markdown",
      "source": [
        "# **Ridge Regression**"
      ],
      "metadata": {
        "id": "5MbFHzZYy98b"
      }
    },
    {
      "cell_type": "code",
      "source": [
        "r_hot =Ridge()\n",
        "r_cold = Ridge()"
      ],
      "metadata": {
        "id": "WzGjx1ppyCcx"
      },
      "execution_count": 80,
      "outputs": []
    },
    {
      "cell_type": "code",
      "source": [
        "r_hot.fit(x1_train,y1_train)#target as Heating Load\n",
        "r_cold.fit(x2_train,y2_train)#target as Cooling Load\n",
        "\n",
        "y1pr  = r_hot.predict(x1_test)\n",
        "y2pr  = r_cold.predict(x2_test)"
      ],
      "metadata": {
        "id": "n52j0gjtzRmm"
      },
      "execution_count": 81,
      "outputs": []
    },
    {
      "cell_type": "code",
      "source": [
        "#Heating Load \n",
        "print('Mean Absolute Error for Heating Load:', metrics.mean_absolute_error(y1_test, y1pr))\n",
        "print('Mean Squared Error for Heating Load:', metrics.mean_squared_error(y1_test, y1pr))\n",
        "print(' Root Mean Squared Error for Heating Load:', np.sqrt(metrics.mean_squared_error(y1_test, y1pr)))\n",
        "print('Ridge Regression Model score for Heating Load :', cross_val_score(r_hot, x, y1, cv=10, scoring = \"r2\").mean()*100)"
      ],
      "metadata": {
        "colab": {
          "base_uri": "https://localhost:8080/"
        },
        "id": "tByrliavzcWP",
        "outputId": "86a5dd5a-c7c7-4879-a6bb-707492015288"
      },
      "execution_count": 82,
      "outputs": [
        {
          "output_type": "stream",
          "name": "stdout",
          "text": [
            "Mean Absolute Error for Heating Load: 2.248748788082819\n",
            "Mean Squared Error for Heating Load: 9.279562109840743\n",
            " Root Mean Squared Error for Heating Load: 3.046237369254199\n",
            "Ridge Regression Model score for Heating Load : 88.88975389620943\n"
          ]
        }
      ]
    },
    {
      "cell_type": "code",
      "source": [
        "#Cooling Load\n",
        "print('Mean Absolute Error for Cooling Load:', metrics.mean_absolute_error(y2_test, y2pr))\n",
        "print('Mean Squared Error for Cooling Load:', metrics.mean_squared_error(y2_test, y2pr))\n",
        "print(' Root Mean Squared Error for Cooling Load:', np.sqrt(metrics.mean_squared_error(y2_test, y2pr)))\n",
        "print('Ridge Regression Model score for Cooling Load :', cross_val_score(r_cold, x, y2, cv=10, scoring = \"r2\").mean()*100)"
      ],
      "metadata": {
        "colab": {
          "base_uri": "https://localhost:8080/"
        },
        "id": "42sJOvJAzo5S",
        "outputId": "580c277b-4bbe-4872-ccc0-160f3f21b8f2"
      },
      "execution_count": 83,
      "outputs": [
        {
          "output_type": "stream",
          "name": "stdout",
          "text": [
            "Mean Absolute Error for Cooling Load: 2.488180461493771\n",
            "Mean Squared Error for Cooling Load: 11.566695112541526\n",
            " Root Mean Squared Error for Cooling Load: 3.400984432857864\n",
            "Ridge Regression Model score for Cooling Load : 87.04319622723325\n"
          ]
        }
      ]
    },
    {
      "cell_type": "markdown",
      "source": [
        "## **Inference:**\n",
        "    1. Ridge Regression Score for Heating and Cooling Load is almost more than and equal to 87%."
      ],
      "metadata": {
        "id": "_ywggoPxz5V-"
      }
    },
    {
      "cell_type": "markdown",
      "source": [
        "# **Lasso Regression**"
      ],
      "metadata": {
        "id": "FMlNx21b0bid"
      }
    },
    {
      "cell_type": "code",
      "source": [
        "l_hot = Lasso()\n",
        "l_cold = Lasso() "
      ],
      "metadata": {
        "id": "QhmmZ_Hez31k"
      },
      "execution_count": 84,
      "outputs": []
    },
    {
      "cell_type": "code",
      "source": [
        "l_hot.fit(x1_train,y1_train)#target as Heating Load\n",
        "l_cold.fit(x2_train,y2_train)#target as Cooling Load\n",
        "\n",
        "y1pred = l_hot.predict(x1_test)\n",
        "y2pred = l_cold.predict(x2_test)\n"
      ],
      "metadata": {
        "id": "bSoMpKzN0mx1"
      },
      "execution_count": 85,
      "outputs": []
    },
    {
      "cell_type": "code",
      "source": [
        "#Heating Load \n",
        "print('Mean Absolute Error for Heating Load:', metrics.mean_absolute_error(y1_test, y1pred))\n",
        "print('Mean Squared Error for Heating Load:', metrics.mean_squared_error(y1_test, y1pred))\n",
        "print(' Root Mean Squared Error for Heating Load:', np.sqrt(metrics.mean_squared_error(y1_test, y1pred)))\n",
        "print('Lasso Regression Model score for Heating Load :', cross_val_score(l_hot, x, y1, cv=10, scoring = \"r2\").mean()*100)"
      ],
      "metadata": {
        "colab": {
          "base_uri": "https://localhost:8080/"
        },
        "id": "QMuXGnl600QG",
        "outputId": "da21a6b0-23e3-4f5c-d13f-0fe708964396"
      },
      "execution_count": 86,
      "outputs": [
        {
          "output_type": "stream",
          "name": "stdout",
          "text": [
            "Mean Absolute Error for Heating Load: 3.3817047336052592\n",
            "Mean Squared Error for Heating Load: 21.715988989409148\n",
            " Root Mean Squared Error for Heating Load: 4.660041736874161\n",
            "Lasso Regression Model score for Heating Load : 73.97503737484207\n"
          ]
        }
      ]
    },
    {
      "cell_type": "code",
      "source": [
        "#Cooling Load\n",
        "print('Mean Absolute Error for Cooling Load:', metrics.mean_absolute_error(y2_test, y2pred))\n",
        "print('Mean Squared Error for Cooling Load:', metrics.mean_squared_error(y2_test, y2pred))\n",
        "print(' Root Mean Squared Error for Cooling Load:', np.sqrt(metrics.mean_squared_error(y2_test, y2pred)))\n",
        "print('Lasso Regression Model score for Cooling Load :', cross_val_score(l_cold, x, y2, cv=10, scoring = \"r2\").mean()*100)"
      ],
      "metadata": {
        "colab": {
          "base_uri": "https://localhost:8080/"
        },
        "id": "ssFw070V1Ddl",
        "outputId": "a8947f3e-9e5d-4e3f-f248-f45ed4ec47c4"
      },
      "execution_count": 87,
      "outputs": [
        {
          "output_type": "stream",
          "name": "stdout",
          "text": [
            "Mean Absolute Error for Cooling Load: 3.3152147638420595\n",
            "Mean Squared Error for Cooling Load: 21.011552643129765\n",
            " Root Mean Squared Error for Cooling Load: 4.583836018350762\n",
            "Lasso Regression Model score for Cooling Load : 75.17537476543488\n"
          ]
        }
      ]
    },
    {
      "cell_type": "markdown",
      "source": [
        "## **Inference:**\n",
        "     1. Lasso Regression Score has the lowest score for both Heating and Cooling Load compared to other model score."
      ],
      "metadata": {
        "id": "XuJ8PqC91YMc"
      }
    },
    {
      "cell_type": "markdown",
      "source": [
        "# **Best Model Score:**"
      ],
      "metadata": {
        "id": "4ISGQgVg4WMs"
      }
    },
    {
      "cell_type": "code",
      "source": [
        "#Heating Load\n",
        "print(\"Best Model for Heating Load:\")\n",
        "print('Random Forest Regressor Model score for Heating Load :', cross_val_score(rf_hot, x, y1, cv=10, scoring = \"r2\").mean()*100)\n",
        "print('Decison Forest Regressor Model score for Heating Load :', cross_val_score(df_hot, x, y1, cv=10, scoring = \"r2\").mean()*100)\n",
        "print('Linear Regression Model score for Heating Load :', cross_val_score(lr_hot, x, y1, cv=10, scoring = \"r2\").mean()*100)\n",
        "print('Ridge Regression Model score for Heating Load :', cross_val_score(r_hot, x, y1, cv=10, scoring = \"r2\").mean()*100)\n",
        "print('K Nearest Neighbors Regressor Model score for Heating Load :', cross_val_score(kn_hot, x, y1, cv=10, scoring = \"r2\").mean()*100)\n",
        "print('Lasso Regression Model score for Heating Load :', cross_val_score(l_hot, x, y1, cv=10, scoring = \"r2\").mean()*100)"
      ],
      "metadata": {
        "colab": {
          "base_uri": "https://localhost:8080/"
        },
        "id": "CDS7QwpN4bl0",
        "outputId": "b112051c-9ee6-4d3f-9bca-28f0d099eece"
      },
      "execution_count": 88,
      "outputs": [
        {
          "output_type": "stream",
          "name": "stdout",
          "text": [
            "Best Model for Heating Load:\n",
            "Random Forest Regressor Model score for Heating Load : 96.91794883110644\n",
            "Decison Forest Regressor Model score for Heating Load : 96.87168924085643\n",
            "Linear Regression Model score for Heating Load : 89.2268769719592\n",
            "Ridge Regression Model score for Heating Load : 88.88975389620943\n",
            "K Nearest Neighbors Regressor Model score for Heating Load : 88.40399080049018\n",
            "Lasso Regression Model score for Heating Load : 73.97503737484207\n"
          ]
        }
      ]
    },
    {
      "cell_type": "markdown",
      "source": [
        "# **Inference Best Model For Heating Load:**\n",
        "\n",
        "         \n",
        "\n",
        "*   Random Forest Regressor (96.9% ~ 97%)\n",
        "\n",
        "*   Decision Tree Regressor (96.8%)\n",
        "\n"
      ],
      "metadata": {
        "id": "XqzsouLX1-B-"
      }
    },
    {
      "cell_type": "code",
      "source": [
        "#Cooling Load\n",
        "\n",
        "print(\"Best Model for Cooling Load:\")\n",
        "print('Random Forest Regressor Model score for Cooling Load :', cross_val_score(rf_cold, x, y2, cv=10, scoring = \"r2\").mean()*100)\n",
        "print('Decison Forest Regressor Model score for Cooling Load :', cross_val_score(df_cold, x, y2, cv=10, scoring = \"r2\").mean()*100)\n",
        "print('K Nearest Neighbors Regressor Model score for Cooling Load :', cross_val_score(kn_cold, x, y2, cv=10, scoring = \"r2\").mean()*100)\n",
        "print('Linear Regression Model score for Cooling Load :', cross_val_score(lr_cold, x, y2, cv=10, scoring = \"r2\").mean()*100)\n",
        "print('Ridge Regression Model score for Cooling Load :', cross_val_score(r_cold, x, y2, cv=10, scoring = \"r2\").mean()*100)\n",
        "print('Lasso Regression Model score for Cooling Load :', cross_val_score(l_cold, x, y2, cv=10, scoring = \"r2\").mean()*100)"
      ],
      "metadata": {
        "colab": {
          "base_uri": "https://localhost:8080/"
        },
        "id": "Yoc202jR59t3",
        "outputId": "4d687ce8-9bb3-4eb5-e3b9-4e9d1f9eb69e"
      },
      "execution_count": 89,
      "outputs": [
        {
          "output_type": "stream",
          "name": "stdout",
          "text": [
            "Best Model for Cooling Load:\n",
            "Random Forest Regressor Model score for Cooling Load : 96.51599254825562\n",
            "Decison Forest Regressor Model score for Cooling Load : 95.4563189715352\n",
            "K Nearest Neighbors Regressor Model score for Cooling Load : 92.47214986139231\n",
            "Linear Regression Model score for Cooling Load : 87.62156243624281\n",
            "Ridge Regression Model score for Cooling Load : 87.04319622723325\n",
            "Lasso Regression Model score for Cooling Load : 75.17537476543488\n"
          ]
        }
      ]
    },
    {
      "cell_type": "markdown",
      "source": [
        "# **Inference Best model For Cooling Load:**\n",
        "\n",
        "\n",
        "\n",
        "*   Random Forest Regressor (96.4%)\n",
        "\n",
        "*   Decision Tree Regressor (95.5%)\n",
        "\n",
        "*   K Nearest Neighbor Regressor (92.4%)\n",
        "\n",
        "\n",
        "\n"
      ],
      "metadata": {
        "id": "biKwESwa24mE"
      }
    }
  ]
}